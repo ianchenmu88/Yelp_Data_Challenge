{
 "cells": [
  {
   "cell_type": "code",
   "execution_count": 1,
   "metadata": {},
   "outputs": [],
   "source": [
    "import pandas as pd\n",
    "import numpy as np\n",
    "import matplotlib.pyplot as plt\n",
    "% matplotlib inline\n",
    "plt.style.use(\"ggplot\")"
   ]
  },
  {
   "cell_type": "code",
   "execution_count": 3,
   "metadata": {},
   "outputs": [],
   "source": [
    "df = pd.read_csv('/Users/chenmu/Downloads/dataset/last_2_years_restaurant_reviews.csv')"
   ]
  },
  {
   "cell_type": "code",
   "execution_count": 4,
   "metadata": {},
   "outputs": [
    {
     "data": {
      "text/html": [
       "<div>\n",
       "<style scoped>\n",
       "    .dataframe tbody tr th:only-of-type {\n",
       "        vertical-align: middle;\n",
       "    }\n",
       "\n",
       "    .dataframe tbody tr th {\n",
       "        vertical-align: top;\n",
       "    }\n",
       "\n",
       "    .dataframe thead th {\n",
       "        text-align: right;\n",
       "    }\n",
       "</style>\n",
       "<table border=\"1\" class=\"dataframe\">\n",
       "  <thead>\n",
       "    <tr style=\"text-align: right;\">\n",
       "      <th></th>\n",
       "      <th>business_id</th>\n",
       "      <th>name</th>\n",
       "      <th>categories</th>\n",
       "      <th>avg_stars</th>\n",
       "      <th>cool</th>\n",
       "      <th>date</th>\n",
       "      <th>funny</th>\n",
       "      <th>review_id</th>\n",
       "      <th>stars</th>\n",
       "      <th>text</th>\n",
       "      <th>useful</th>\n",
       "      <th>user_id</th>\n",
       "    </tr>\n",
       "  </thead>\n",
       "  <tbody>\n",
       "    <tr>\n",
       "      <th>0</th>\n",
       "      <td>--9e1ONYQuAa-CB_Rrw7Tw</td>\n",
       "      <td>Delmonico Steakhouse</td>\n",
       "      <td>Steakhouses, Restaurants, Cajun/Creole</td>\n",
       "      <td>4.0</td>\n",
       "      <td>0</td>\n",
       "      <td>2017-02-14</td>\n",
       "      <td>0</td>\n",
       "      <td>VETXTwMw6qxzOVDlXfe6Tg</td>\n",
       "      <td>5</td>\n",
       "      <td>went for dinner tonight. Amazing my husband ha...</td>\n",
       "      <td>0</td>\n",
       "      <td>ymlnR8UeFvB4FZL56tCZsA</td>\n",
       "    </tr>\n",
       "    <tr>\n",
       "      <th>1</th>\n",
       "      <td>--9e1ONYQuAa-CB_Rrw7Tw</td>\n",
       "      <td>Delmonico Steakhouse</td>\n",
       "      <td>Steakhouses, Restaurants, Cajun/Creole</td>\n",
       "      <td>4.0</td>\n",
       "      <td>0</td>\n",
       "      <td>2017-12-04</td>\n",
       "      <td>0</td>\n",
       "      <td>S8-8uZ7fa5YbjnEtaW15ng</td>\n",
       "      <td>5</td>\n",
       "      <td>This was an amazing dinning experience! ORDER ...</td>\n",
       "      <td>0</td>\n",
       "      <td>9pSSL6X6lFpY3FCRLEH3og</td>\n",
       "    </tr>\n",
       "    <tr>\n",
       "      <th>2</th>\n",
       "      <td>--9e1ONYQuAa-CB_Rrw7Tw</td>\n",
       "      <td>Delmonico Steakhouse</td>\n",
       "      <td>Steakhouses, Restaurants, Cajun/Creole</td>\n",
       "      <td>4.0</td>\n",
       "      <td>0</td>\n",
       "      <td>2016-08-22</td>\n",
       "      <td>1</td>\n",
       "      <td>1nK5w0VNfDlnR3bOz13dJQ</td>\n",
       "      <td>5</td>\n",
       "      <td>My husband and I went there for lunch on a Sat...</td>\n",
       "      <td>1</td>\n",
       "      <td>gm8nNoA3uB4In5o_Hxpq3g</td>\n",
       "    </tr>\n",
       "    <tr>\n",
       "      <th>3</th>\n",
       "      <td>--9e1ONYQuAa-CB_Rrw7Tw</td>\n",
       "      <td>Delmonico Steakhouse</td>\n",
       "      <td>Steakhouses, Restaurants, Cajun/Creole</td>\n",
       "      <td>4.0</td>\n",
       "      <td>0</td>\n",
       "      <td>2016-09-13</td>\n",
       "      <td>0</td>\n",
       "      <td>N1Z93BthdJ7FT2p5S22jIA</td>\n",
       "      <td>3</td>\n",
       "      <td>Went for a nice anniversary dinner. Researched...</td>\n",
       "      <td>0</td>\n",
       "      <td>CEtidlXNyQzgJSdF1ubPFw</td>\n",
       "    </tr>\n",
       "    <tr>\n",
       "      <th>4</th>\n",
       "      <td>--9e1ONYQuAa-CB_Rrw7Tw</td>\n",
       "      <td>Delmonico Steakhouse</td>\n",
       "      <td>Steakhouses, Restaurants, Cajun/Creole</td>\n",
       "      <td>4.0</td>\n",
       "      <td>0</td>\n",
       "      <td>2016-08-08</td>\n",
       "      <td>0</td>\n",
       "      <td>ir-EVhHyWna7KqYWtj660g</td>\n",
       "      <td>5</td>\n",
       "      <td>Hands down the best meal and service I have ev...</td>\n",
       "      <td>0</td>\n",
       "      <td>9_BhDyzJYf2JwTD9TyXJ4g</td>\n",
       "    </tr>\n",
       "  </tbody>\n",
       "</table>\n",
       "</div>"
      ],
      "text/plain": [
       "              business_id                  name  \\\n",
       "0  --9e1ONYQuAa-CB_Rrw7Tw  Delmonico Steakhouse   \n",
       "1  --9e1ONYQuAa-CB_Rrw7Tw  Delmonico Steakhouse   \n",
       "2  --9e1ONYQuAa-CB_Rrw7Tw  Delmonico Steakhouse   \n",
       "3  --9e1ONYQuAa-CB_Rrw7Tw  Delmonico Steakhouse   \n",
       "4  --9e1ONYQuAa-CB_Rrw7Tw  Delmonico Steakhouse   \n",
       "\n",
       "                               categories  avg_stars  cool        date  funny  \\\n",
       "0  Steakhouses, Restaurants, Cajun/Creole        4.0     0  2017-02-14      0   \n",
       "1  Steakhouses, Restaurants, Cajun/Creole        4.0     0  2017-12-04      0   \n",
       "2  Steakhouses, Restaurants, Cajun/Creole        4.0     0  2016-08-22      1   \n",
       "3  Steakhouses, Restaurants, Cajun/Creole        4.0     0  2016-09-13      0   \n",
       "4  Steakhouses, Restaurants, Cajun/Creole        4.0     0  2016-08-08      0   \n",
       "\n",
       "                review_id  stars  \\\n",
       "0  VETXTwMw6qxzOVDlXfe6Tg      5   \n",
       "1  S8-8uZ7fa5YbjnEtaW15ng      5   \n",
       "2  1nK5w0VNfDlnR3bOz13dJQ      5   \n",
       "3  N1Z93BthdJ7FT2p5S22jIA      3   \n",
       "4  ir-EVhHyWna7KqYWtj660g      5   \n",
       "\n",
       "                                                text  useful  \\\n",
       "0  went for dinner tonight. Amazing my husband ha...       0   \n",
       "1  This was an amazing dinning experience! ORDER ...       0   \n",
       "2  My husband and I went there for lunch on a Sat...       1   \n",
       "3  Went for a nice anniversary dinner. Researched...       0   \n",
       "4  Hands down the best meal and service I have ev...       0   \n",
       "\n",
       "                  user_id  \n",
       "0  ymlnR8UeFvB4FZL56tCZsA  \n",
       "1  9pSSL6X6lFpY3FCRLEH3og  \n",
       "2  gm8nNoA3uB4In5o_Hxpq3g  \n",
       "3  CEtidlXNyQzgJSdF1ubPFw  \n",
       "4  9_BhDyzJYf2JwTD9TyXJ4g  "
      ]
     },
     "execution_count": 4,
     "metadata": {},
     "output_type": "execute_result"
    }
   ],
   "source": [
    "df.head()"
   ]
  },
  {
   "cell_type": "code",
   "execution_count": 5,
   "metadata": {},
   "outputs": [],
   "source": [
    "import matplotlib.pyplot as plt"
   ]
  },
  {
   "cell_type": "code",
   "execution_count": 126,
   "metadata": {},
   "outputs": [
    {
     "data": {
      "image/png": "[encoded data removed]",
      "text/plain": [
       "<Figure size 432x288 with 1 Axes>"
      ]
     },
     "metadata": {},
     "output_type": "display_data"
    }
   ],
   "source": [
    "df_final[\"business_id\"].value_counts().plot.hist(bins=100)\n",
    "plt.show()"
   ]
  },
  {
   "cell_type": "code",
   "execution_count": 127,
   "metadata": {},
   "outputs": [],
   "source": [
    "df_final.to_csv('Downloads/yelp/last_1_year_restaurant_reviews.csv', index=False, encoding='utf-8')"
   ]
  },
  {
   "cell_type": "code",
   "execution_count": 131,
   "metadata": {},
   "outputs": [],
   "source": [
    "df = pd.read_csv('Downloads/yelp/last_1_year_restaurant_reviews.csv')"
   ]
  },
  {
   "cell_type": "code",
   "execution_count": 132,
   "metadata": {},
   "outputs": [
    {
     "data": {
      "text/html": [
       "<div>\n",
       "<style scoped>\n",
       "    .dataframe tbody tr th:only-of-type {\n",
       "        vertical-align: middle;\n",
       "    }\n",
       "\n",
       "    .dataframe tbody tr th {\n",
       "        vertical-align: top;\n",
       "    }\n",
       "\n",
       "    .dataframe thead th {\n",
       "        text-align: right;\n",
       "    }\n",
       "</style>\n",
       "<table border=\"1\" class=\"dataframe\">\n",
       "  <thead>\n",
       "    <tr style=\"text-align: right;\">\n",
       "      <th></th>\n",
       "      <th>business_id</th>\n",
       "      <th>name</th>\n",
       "      <th>categories</th>\n",
       "      <th>avg_stars</th>\n",
       "      <th>cool</th>\n",
       "      <th>date</th>\n",
       "      <th>funny</th>\n",
       "      <th>review_id</th>\n",
       "      <th>stars</th>\n",
       "      <th>text</th>\n",
       "      <th>useful</th>\n",
       "      <th>user_id</th>\n",
       "    </tr>\n",
       "  </thead>\n",
       "  <tbody>\n",
       "    <tr>\n",
       "      <th>0</th>\n",
       "      <td>--9e1ONYQuAa-CB_Rrw7Tw</td>\n",
       "      <td>Delmonico Steakhouse</td>\n",
       "      <td>Steakhouses, Restaurants, Cajun/Creole</td>\n",
       "      <td>4.0</td>\n",
       "      <td>0</td>\n",
       "      <td>2017-02-14</td>\n",
       "      <td>0</td>\n",
       "      <td>VETXTwMw6qxzOVDlXfe6Tg</td>\n",
       "      <td>5</td>\n",
       "      <td>went for dinner tonight. Amazing my husband ha...</td>\n",
       "      <td>0</td>\n",
       "      <td>ymlnR8UeFvB4FZL56tCZsA</td>\n",
       "    </tr>\n",
       "    <tr>\n",
       "      <th>1</th>\n",
       "      <td>--9e1ONYQuAa-CB_Rrw7Tw</td>\n",
       "      <td>Delmonico Steakhouse</td>\n",
       "      <td>Steakhouses, Restaurants, Cajun/Creole</td>\n",
       "      <td>4.0</td>\n",
       "      <td>0</td>\n",
       "      <td>2017-12-04</td>\n",
       "      <td>0</td>\n",
       "      <td>S8-8uZ7fa5YbjnEtaW15ng</td>\n",
       "      <td>5</td>\n",
       "      <td>This was an amazing dinning experience! ORDER ...</td>\n",
       "      <td>0</td>\n",
       "      <td>9pSSL6X6lFpY3FCRLEH3og</td>\n",
       "    </tr>\n",
       "    <tr>\n",
       "      <th>2</th>\n",
       "      <td>--9e1ONYQuAa-CB_Rrw7Tw</td>\n",
       "      <td>Delmonico Steakhouse</td>\n",
       "      <td>Steakhouses, Restaurants, Cajun/Creole</td>\n",
       "      <td>4.0</td>\n",
       "      <td>0</td>\n",
       "      <td>2016-09-13</td>\n",
       "      <td>0</td>\n",
       "      <td>N1Z93BthdJ7FT2p5S22jIA</td>\n",
       "      <td>3</td>\n",
       "      <td>Went for a nice anniversary dinner. Researched...</td>\n",
       "      <td>0</td>\n",
       "      <td>CEtidlXNyQzgJSdF1ubPFw</td>\n",
       "    </tr>\n",
       "    <tr>\n",
       "      <th>3</th>\n",
       "      <td>--9e1ONYQuAa-CB_Rrw7Tw</td>\n",
       "      <td>Delmonico Steakhouse</td>\n",
       "      <td>Steakhouses, Restaurants, Cajun/Creole</td>\n",
       "      <td>4.0</td>\n",
       "      <td>0</td>\n",
       "      <td>2017-05-20</td>\n",
       "      <td>0</td>\n",
       "      <td>Pnkrj90xfykhHyo4BSFRsw</td>\n",
       "      <td>5</td>\n",
       "      <td>ABSOLUTE MUST IN VEGAS! Loved everything my bo...</td>\n",
       "      <td>0</td>\n",
       "      <td>cZVQGCZ_fHtTdfiyGVJPdg</td>\n",
       "    </tr>\n",
       "    <tr>\n",
       "      <th>4</th>\n",
       "      <td>--9e1ONYQuAa-CB_Rrw7Tw</td>\n",
       "      <td>Delmonico Steakhouse</td>\n",
       "      <td>Steakhouses, Restaurants, Cajun/Creole</td>\n",
       "      <td>4.0</td>\n",
       "      <td>0</td>\n",
       "      <td>2017-12-30</td>\n",
       "      <td>0</td>\n",
       "      <td>Oeh7e6U2xaDQI9L9i4x_Gw</td>\n",
       "      <td>2</td>\n",
       "      <td>I had high hopes for Delmonico's Steakhouse in...</td>\n",
       "      <td>0</td>\n",
       "      <td>li2cBZl60vgqihDJJG7jeA</td>\n",
       "    </tr>\n",
       "  </tbody>\n",
       "</table>\n",
       "</div>"
      ],
      "text/plain": [
       "              business_id                  name  \\\n",
       "0  --9e1ONYQuAa-CB_Rrw7Tw  Delmonico Steakhouse   \n",
       "1  --9e1ONYQuAa-CB_Rrw7Tw  Delmonico Steakhouse   \n",
       "2  --9e1ONYQuAa-CB_Rrw7Tw  Delmonico Steakhouse   \n",
       "3  --9e1ONYQuAa-CB_Rrw7Tw  Delmonico Steakhouse   \n",
       "4  --9e1ONYQuAa-CB_Rrw7Tw  Delmonico Steakhouse   \n",
       "\n",
       "                               categories  avg_stars  cool        date  funny  \\\n",
       "0  Steakhouses, Restaurants, Cajun/Creole        4.0     0  2017-02-14      0   \n",
       "1  Steakhouses, Restaurants, Cajun/Creole        4.0     0  2017-12-04      0   \n",
       "2  Steakhouses, Restaurants, Cajun/Creole        4.0     0  2016-09-13      0   \n",
       "3  Steakhouses, Restaurants, Cajun/Creole        4.0     0  2017-05-20      0   \n",
       "4  Steakhouses, Restaurants, Cajun/Creole        4.0     0  2017-12-30      0   \n",
       "\n",
       "                review_id  stars  \\\n",
       "0  VETXTwMw6qxzOVDlXfe6Tg      5   \n",
       "1  S8-8uZ7fa5YbjnEtaW15ng      5   \n",
       "2  N1Z93BthdJ7FT2p5S22jIA      3   \n",
       "3  Pnkrj90xfykhHyo4BSFRsw      5   \n",
       "4  Oeh7e6U2xaDQI9L9i4x_Gw      2   \n",
       "\n",
       "                                                text  useful  \\\n",
       "0  went for dinner tonight. Amazing my husband ha...       0   \n",
       "1  This was an amazing dinning experience! ORDER ...       0   \n",
       "2  Went for a nice anniversary dinner. Researched...       0   \n",
       "3  ABSOLUTE MUST IN VEGAS! Loved everything my bo...       0   \n",
       "4  I had high hopes for Delmonico's Steakhouse in...       0   \n",
       "\n",
       "                  user_id  \n",
       "0  ymlnR8UeFvB4FZL56tCZsA  \n",
       "1  9pSSL6X6lFpY3FCRLEH3og  \n",
       "2  CEtidlXNyQzgJSdF1ubPFw  \n",
       "3  cZVQGCZ_fHtTdfiyGVJPdg  \n",
       "4  li2cBZl60vgqihDJJG7jeA  "
      ]
     },
     "execution_count": 132,
     "metadata": {},
     "output_type": "execute_result"
    }
   ],
   "source": [
    "df.head()"
   ]
  },
  {
   "cell_type": "code",
   "execution_count": 133,
   "metadata": {},
   "outputs": [],
   "source": [
    "documents=df['text'].values"
   ]
  },
  {
   "cell_type": "code",
   "execution_count": 134,
   "metadata": {},
   "outputs": [
    {
     "data": {
      "text/plain": [
       "(dtype('O'), (365550,))"
      ]
     },
     "execution_count": 134,
     "metadata": {},
     "output_type": "execute_result"
    }
   ],
   "source": [
    "documents.dtype, documents.shape"
   ]
  },
  {
   "cell_type": "code",
   "execution_count": 135,
   "metadata": {},
   "outputs": [
    {
     "data": {
      "text/plain": [
       "\"My husband and I came out to Vegas for a mini vacation. Along the way he wanted to try a good steak dinner and boy we found it! \\n\\nI ordered the bone out ribeye and my husband ordered the Japanese Wagyu. Side dishes were the mushrooms and steak fries. 2 bottles of Syrah for drinks and banana cream pie for dessert. \\n\\nEveryone from the hostess to the bussers and servers were nothing short of gracious. Our server was John and he was outstanding with his wine recommendations and overall service. \\n\\nOur steaks were cooked perfectly, our glasses were never empty. Definitely an experience to remember. Delmonico's will be a destination for us every time we come to the city.\""
      ]
     },
     "execution_count": 135,
     "metadata": {},
     "output_type": "execute_result"
    }
   ],
   "source": [
    "documents[10]"
   ]
  },
  {
   "cell_type": "code",
   "execution_count": 136,
   "metadata": {},
   "outputs": [],
   "source": [
    "df['favorable']=df['stars']>4"
   ]
  },
  {
   "cell_type": "code",
   "execution_count": 137,
   "metadata": {},
   "outputs": [],
   "source": [
    "target=df['favorable'].values"
   ]
  },
  {
   "cell_type": "code",
   "execution_count": 138,
   "metadata": {},
   "outputs": [
    {
     "data": {
      "text/plain": [
       "array([ True,  True, False,  True, False, False, False, False,  True,\n",
       "        True])"
      ]
     },
     "execution_count": 138,
     "metadata": {},
     "output_type": "execute_result"
    }
   ],
   "source": [
    "target[:10]"
   ]
  },
  {
   "cell_type": "code",
   "execution_count": 139,
   "metadata": {},
   "outputs": [
    {
     "data": {
      "text/plain": [
       "(0.49467377923676653, 0.4999716305675566)"
      ]
     },
     "execution_count": 139,
     "metadata": {},
     "output_type": "execute_result"
    }
   ],
   "source": [
    "target.mean(), target.std()"
   ]
  },
  {
   "cell_type": "code",
   "execution_count": 140,
   "metadata": {},
   "outputs": [
    {
     "data": {
      "text/plain": [
       "((365550,), (365550,))"
      ]
     },
     "execution_count": 140,
     "metadata": {},
     "output_type": "execute_result"
    }
   ],
   "source": [
    "documents.shape, target.shape"
   ]
  },
  {
   "cell_type": "code",
   "execution_count": 141,
   "metadata": {},
   "outputs": [
    {
     "name": "stderr",
     "output_type": "stream",
     "text": [
      "/anaconda3/lib/python3.6/site-packages/sklearn/cross_validation.py:41: DeprecationWarning: This module was deprecated in version 0.18 in favor of the model_selection module into which all the refactored classes and functions are moved. Also note that the interface of the new CV iterators are different from that of this module. This module will be removed in 0.20.\n",
      "  \"This module will be removed in 0.20.\", DeprecationWarning)\n"
     ]
    }
   ],
   "source": [
    "from sklearn.cross_validation import train_test_split"
   ]
  },
  {
   "cell_type": "code",
   "execution_count": 142,
   "metadata": {},
   "outputs": [],
   "source": [
    "documents_train, documents_test, target_train, target_test = train_test_split(\n",
    "    documents,\n",
    "    target,\n",
    "    test_size=0.8,\n",
    "    random_state=42\n",
    ")"
   ]
  },
  {
   "cell_type": "code",
   "execution_count": 143,
   "metadata": {},
   "outputs": [],
   "source": [
    "from sklearn.feature_extraction.text import TfidfVectorizer"
   ]
  },
  {
   "cell_type": "code",
   "execution_count": 146,
   "metadata": {},
   "outputs": [],
   "source": [
    "vectorizer = TfidfVectorizer(stop_words = 'english', max_features=5000)"
   ]
  },
  {
   "cell_type": "code",
   "execution_count": 147,
   "metadata": {},
   "outputs": [],
   "source": [
    "vectors_train=vectorizer.fit_transform(documents_train).toarray()"
   ]
  },
  {
   "cell_type": "code",
   "execution_count": 148,
   "metadata": {},
   "outputs": [],
   "source": [
    "words = vectorizer.get_feature_names()"
   ]
  },
  {
   "cell_type": "code",
   "execution_count": 149,
   "metadata": {},
   "outputs": [
    {
     "data": {
      "text/plain": [
       "(73110, 5000)"
      ]
     },
     "execution_count": 149,
     "metadata": {},
     "output_type": "execute_result"
    }
   ],
   "source": [
    "vectors_train.shape"
   ]
  },
  {
   "cell_type": "code",
   "execution_count": 150,
   "metadata": {},
   "outputs": [],
   "source": [
    "vectors_test=vectorizer.transform(documents_test).toarray()"
   ]
  },
  {
   "cell_type": "code",
   "execution_count": 151,
   "metadata": {},
   "outputs": [],
   "source": [
    "import numpy as np\n",
    "\n",
    "# We will need these helper methods pretty soon\n",
    "\n",
    "def get_top_values(lst, n, labels):\n",
    "    '''\n",
    "    INPUT: LIST, INTEGER, LIST\n",
    "    OUTPUT: LIST\n",
    "\n",
    "    Given a list of values, find the indices with the highest n values.\n",
    "    Return the labels for each of these indices.\n",
    "\n",
    "    e.g.\n",
    "    lst = [7, 3, 2, 4, 1]\n",
    "    n = 2\n",
    "    labels = [\"cat\", \"dog\", \"mouse\", \"pig\", \"rabbit\"]\n",
    "    output: [\"cat\", \"pig\"]\n",
    "    '''\n",
    "    return [labels[i] for i in np.argsort(lst)[::-1][:n]]  # np.argsort by default sorts values in ascending order\n",
    "\n",
    "def get_bottom_values(lst, n, labels):\n",
    "    '''\n",
    "    INPUT: LIST, INTEGER, LIST\n",
    "    OUTPUT: LIST\n",
    "\n",
    "    Given a list of values, find the indices with the lowest n values.\n",
    "    Return the labels for each of these indices.\n",
    "\n",
    "    e.g.\n",
    "    lst = [7, 3, 2, 4, 1]\n",
    "    n = 2\n",
    "    labels = [\"cat\", \"dog\", \"mouse\", \"pig\", \"rabbit\"]\n",
    "    output: [\"mouse\", \"rabbit\"]\n",
    "    '''\n",
    "    return [labels[i] for i in np.argsort(lst)[:n]]"
   ]
  },
  {
   "cell_type": "code",
   "execution_count": 152,
   "metadata": {},
   "outputs": [],
   "source": [
    "from sklearn.metrics.pairwise import cosine_similarity"
   ]
  },
  {
   "cell_type": "code",
   "execution_count": 156,
   "metadata": {},
   "outputs": [
    {
     "name": "stdout",
     "output_type": "stream",
     "text": [
      "Antiques galore with great hospitality everything you'ld expect from an old school diner and more!   The staff here is extremely friendly and make sure you are well taken care of during your visit.  \n",
      "\n",
      "Seems like the majority of costumers here are working class mixed with retirees and definitely regulars to this establishment.  All the decor takes you back to a time definitely not forgetten here from the 1950's telephone to the early 80's Polaroid camera the window booths have vintage conversation starters galore.\n",
      "\n",
      "The food is delicious and appropriately prices on my first visit I had Curtis' Haystack ( biscuits and gravy topped with hashbrowns eggs and bacon) and it was a full meal for sure so being your best appetite for that one 4.25/5 \n",
      "\n",
      "Today I had the French Toast Special and the French Toast was prepared perfectly a nice buttery flavor and disappeared quickly. 2 eggs over medium and bacon completed the meal. 4.5/5.\n",
      "\n",
      "So if you are looking for a nice relaxing breakfast /lunch spot with great service and delicious food look no further than Lou's Diner the Diner that time forgot.\n",
      "[\"Antiques galore with great hospitality everything you'ld expect from an old school diner and more!   The staff here is extremely friendly and make sure you are well taken care of during your visit.  \\n\\nSeems like the majority of costumers here are working class mixed with retirees and definitely regulars to this establishment.  All the decor takes you back to a time definitely not forgetten here from the 1950's telephone to the early 80's Polaroid camera the window booths have vintage conversation starters galore.\\n\\nThe food is delicious and appropriately prices on my first visit I had Curtis' Haystack ( biscuits and gravy topped with hashbrowns eggs and bacon) and it was a full meal for sure so being your best appetite for that one 4.25/5 \\n\\nToday I had the French Toast Special and the French Toast was prepared perfectly a nice buttery flavor and disappeared quickly. 2 eggs over medium and bacon completed the meal. 4.5/5.\\n\\nSo if you are looking for a nice relaxing breakfast /lunch spot with great service and delicious food look no further than Lou's Diner the Diner that time forgot.\"]\n"
     ]
    }
   ],
   "source": [
    "some_random_number = 42\n",
    "search_query = documents_test[some_random_number]\n",
    "search_queries = [search_query]\n",
    "print(search_query)\n",
    "print(search_queries)"
   ]
  },
  {
   "cell_type": "code",
   "execution_count": 157,
   "metadata": {},
   "outputs": [],
   "source": [
    "vector_search_queries = vectorizer.transform(search_queries).toarray()"
   ]
  },
  {
   "cell_type": "code",
   "execution_count": 158,
   "metadata": {},
   "outputs": [],
   "source": [
    "similarity_scores=cosine_similarity(vector_search_queries, vectors_train)"
   ]
  },
  {
   "cell_type": "code",
   "execution_count": 159,
   "metadata": {},
   "outputs": [],
   "source": [
    "n = 5\n",
    "returned_reviews = get_top_values(similarity_scores[0], n, documents_train)"
   ]
  },
  {
   "cell_type": "code",
   "execution_count": 161,
   "metadata": {},
   "outputs": [
    {
     "name": "stdout",
     "output_type": "stream",
     "text": [
      "Our search query:\n",
      "Antiques galore with great hospitality everything you'ld expect from an old school diner and more!   The staff here is extremely friendly and make sure you are well taken care of during your visit.  \n",
      "\n",
      "Seems like the majority of costumers here are working class mixed with retirees and definitely regulars to this establishment.  All the decor takes you back to a time definitely not forgetten here from the 1950's telephone to the early 80's Polaroid camera the window booths have vintage conversation starters galore.\n",
      "\n",
      "The food is delicious and appropriately prices on my first visit I had Curtis' Haystack ( biscuits and gravy topped with hashbrowns eggs and bacon) and it was a full meal for sure so being your best appetite for that one 4.25/5 \n",
      "\n",
      "Today I had the French Toast Special and the French Toast was prepared perfectly a nice buttery flavor and disappeared quickly. 2 eggs over medium and bacon completed the meal. 4.5/5.\n",
      "\n",
      "So if you are looking for a nice relaxing breakfast /lunch spot with great service and delicious food look no further than Lou's Diner the Diner that time forgot.\n"
     ]
    }
   ],
   "source": [
    "print('Our search query:')\n",
    "print(search_queries[0])"
   ]
  },
  {
   "cell_type": "code",
   "execution_count": 162,
   "metadata": {},
   "outputs": [
    {
     "name": "stdout",
     "output_type": "stream",
     "text": [
      "Most 5 similar reviews:\n",
      "#0\n",
      "Nice diner decore. Food is cheap and tastes pretty good, like what you would expect for a diner. They only had two waiters working and the service was not perhaps the fastest one.\n",
      "#1\n",
      "This is great spot for breakfast if you like that diner feel   Food and service was wonderful on my visit\n",
      "#2\n",
      "Great service, delicious food. Can't go wrong with this place! We ordered the Steak & Eggs with house fries and toast... Eggs Benedict with bacon... Corn beef hash... Sausage, biscuits n gravy, Greek salad & last but not least French toast. There were a few of us!  ALL of what we ordered was delicious!\n",
      "#3\n",
      "Located on the outskirts of Downtown Las Vegas, this little diner packs a massive punch on flavor. They have the classic diner menu with breakfast and lunch items. I always go for the  make your own scramble breakfast plate. My go-to creation includes: chorizo, all the veggies, pepperjack cheese, avocado and salsa. It comes with their country potatoes and a side of toast. Whenever we have time  we also get the made to order biscuits and gravy. If you're looking for a filling meal at at a great price then definitely come to this spot.\n",
      "#4\n",
      "Great food and the Service was GREAT. We had a very nice diner and drinks. Was recommended by freind andwewill go back\n"
     ]
    }
   ],
   "source": [
    "print('Most %s similar reviews:' % n)\n",
    "for i, review in enumerate(returned_reviews):\n",
    "    print('#%s' % i)\n",
    "    print(review)"
   ]
  },
  {
   "cell_type": "code",
   "execution_count": 163,
   "metadata": {},
   "outputs": [],
   "source": [
    "#the results makes sense."
   ]
  },
  {
   "cell_type": "code",
   "execution_count": 164,
   "metadata": {},
   "outputs": [
    {
     "data": {
      "text/plain": [
       "MultinomialNB(alpha=1.0, class_prior=None, fit_prior=True)"
      ]
     },
     "execution_count": 164,
     "metadata": {},
     "output_type": "execute_result"
    }
   ],
   "source": [
    "from sklearn.naive_bayes import MultinomialNB\n",
    "model_nb=MultinomialNB()\n",
    "model_nb.fit(vectors_train,target_train)"
   ]
  },
  {
   "cell_type": "code",
   "execution_count": 165,
   "metadata": {},
   "outputs": [
    {
     "data": {
      "text/plain": [
       "0.820093010532075"
      ]
     },
     "execution_count": 165,
     "metadata": {},
     "output_type": "execute_result"
    }
   ],
   "source": [
    "model_nb.score(vectors_train,target_train)"
   ]
  },
  {
   "cell_type": "code",
   "execution_count": 166,
   "metadata": {},
   "outputs": [
    {
     "data": {
      "text/plain": [
       "0.8120093010532075"
      ]
     },
     "execution_count": 166,
     "metadata": {},
     "output_type": "execute_result"
    }
   ],
   "source": [
    "model_nb.score(vectors_test,target_test)"
   ]
  },
  {
   "cell_type": "code",
   "execution_count": 167,
   "metadata": {},
   "outputs": [
    {
     "data": {
      "text/plain": [
       "LogisticRegression(C=1.0, class_weight=None, dual=False, fit_intercept=True,\n",
       "          intercept_scaling=1, max_iter=100, multi_class='ovr', n_jobs=1,\n",
       "          penalty='l2', random_state=None, solver='liblinear', tol=0.0001,\n",
       "          verbose=0, warm_start=False)"
      ]
     },
     "execution_count": 167,
     "metadata": {},
     "output_type": "execute_result"
    }
   ],
   "source": [
    "from sklearn.linear_model import LogisticRegression\n",
    "model_lrc=LogisticRegression()\n",
    "model_lrc.fit(vectors_train,target_train)"
   ]
  },
  {
   "cell_type": "code",
   "execution_count": 168,
   "metadata": {},
   "outputs": [
    {
     "data": {
      "text/plain": [
       "0.8515524552044864"
      ]
     },
     "execution_count": 168,
     "metadata": {},
     "output_type": "execute_result"
    }
   ],
   "source": [
    "model_lrc.score(vectors_train,target_train)"
   ]
  },
  {
   "cell_type": "code",
   "execution_count": 169,
   "metadata": {},
   "outputs": [
    {
     "data": {
      "text/plain": [
       "0.833552181644098"
      ]
     },
     "execution_count": 169,
     "metadata": {},
     "output_type": "execute_result"
    }
   ],
   "source": [
    "model_lrc.score(vectors_test,target_test)"
   ]
  },
  {
   "cell_type": "code",
   "execution_count": 170,
   "metadata": {},
   "outputs": [
    {
     "data": {
      "text/plain": [
       "['amazing',\n",
       " 'best',\n",
       " 'delicious',\n",
       " 'awesome',\n",
       " 'incredible',\n",
       " 'perfect',\n",
       " 'perfection',\n",
       " 'fantastic',\n",
       " 'thank',\n",
       " 'excellent',\n",
       " 'great',\n",
       " 'highly',\n",
       " 'love',\n",
       " 'die',\n",
       " 'heaven',\n",
       " 'regret',\n",
       " 'favorite',\n",
       " 'perfectly',\n",
       " 'outstanding',\n",
       " 'bomb']"
      ]
     },
     "execution_count": 170,
     "metadata": {},
     "output_type": "execute_result"
    }
   ],
   "source": [
    "n = 20\n",
    "get_top_values(model_lrc.coef_[0],n,words)"
   ]
  },
  {
   "cell_type": "code",
   "execution_count": 171,
   "metadata": {},
   "outputs": [
    {
     "data": {
      "text/plain": [
       "['worst',\n",
       " 'ok',\n",
       " 'horrible',\n",
       " 'rude',\n",
       " 'slow',\n",
       " 'disappointing',\n",
       " 'terrible',\n",
       " 'mediocre',\n",
       " 'okay',\n",
       " 'bland',\n",
       " 'reason',\n",
       " 'decent',\n",
       " 'poor',\n",
       " 'lacking',\n",
       " 'average',\n",
       " 'meh',\n",
       " 'wasn',\n",
       " 'worse',\n",
       " 'overall',\n",
       " 'unfortunately']"
      ]
     },
     "execution_count": 171,
     "metadata": {},
     "output_type": "execute_result"
    }
   ],
   "source": [
    "n=20\n",
    "get_bottom_values(model_lrc.coef_[0],n,words)"
   ]
  },
  {
   "cell_type": "code",
   "execution_count": 172,
   "metadata": {},
   "outputs": [
    {
     "data": {
      "text/plain": [
       "RandomForestClassifier(bootstrap=True, class_weight=None, criterion='gini',\n",
       "            max_depth=None, max_features='auto', max_leaf_nodes=None,\n",
       "            min_impurity_decrease=0.0, min_impurity_split=None,\n",
       "            min_samples_leaf=10, min_samples_split=2,\n",
       "            min_weight_fraction_leaf=0.0, n_estimators=5, n_jobs=1,\n",
       "            oob_score=False, random_state=None, verbose=0,\n",
       "            warm_start=False)"
      ]
     },
     "execution_count": 172,
     "metadata": {},
     "output_type": "execute_result"
    }
   ],
   "source": [
    "from sklearn.ensemble import RandomForestClassifier\n",
    "model_rfc = RandomForestClassifier(max_depth = None,\n",
    "                                   n_estimators = 5,\n",
    "                                   min_samples_leaf=10)\n",
    "model_rfc.fit(vectors_train,target_train)"
   ]
  },
  {
   "cell_type": "code",
   "execution_count": 173,
   "metadata": {},
   "outputs": [
    {
     "data": {
      "text/plain": [
       "0.8200382984543838"
      ]
     },
     "execution_count": 173,
     "metadata": {},
     "output_type": "execute_result"
    }
   ],
   "source": [
    "model_rfc.score(vectors_train,target_train)"
   ]
  },
  {
   "cell_type": "code",
   "execution_count": 174,
   "metadata": {},
   "outputs": [
    {
     "data": {
      "text/plain": [
       "0.7774004924086992"
      ]
     },
     "execution_count": 174,
     "metadata": {},
     "output_type": "execute_result"
    }
   ],
   "source": [
    "model_rfc.score(vectors_test,target_test)"
   ]
  },
  {
   "cell_type": "code",
   "execution_count": 175,
   "metadata": {},
   "outputs": [
    {
     "data": {
      "text/plain": [
       "['best',\n",
       " 'amazing',\n",
       " 'great',\n",
       " 'delicious',\n",
       " 'ok',\n",
       " 'worst',\n",
       " 'minutes',\n",
       " 'maybe',\n",
       " 'asked',\n",
       " 'favorite',\n",
       " 'wasn',\n",
       " 'horrible',\n",
       " 'awesome',\n",
       " 'vegas',\n",
       " 'friendly',\n",
       " 'definitely',\n",
       " 'love',\n",
       " 'ordered',\n",
       " 'perfect',\n",
       " 'terrible']"
      ]
     },
     "execution_count": 175,
     "metadata": {},
     "output_type": "execute_result"
    }
   ],
   "source": [
    "n=20\n",
    "get_top_values(model_rfc.feature_importances_,n,words)"
   ]
  },
  {
   "cell_type": "code",
   "execution_count": 176,
   "metadata": {},
   "outputs": [
    {
     "data": {
      "text/plain": [
       "array([0.8349176 , 0.82383916, 0.82916154, 0.83256959, 0.83585254])"
      ]
     },
     "execution_count": 176,
     "metadata": {},
     "output_type": "execute_result"
    }
   ],
   "source": [
    "from sklearn.model_selection import cross_val_score\n",
    "cv_scores = cross_val_score(model_lrc,\n",
    "                           vectors_train,\n",
    "                           target_train,\n",
    "                           cv=5,\n",
    "                           scoring=\"accuracy\")\n",
    "cv_scores"
   ]
  },
  {
   "cell_type": "code",
   "execution_count": 177,
   "metadata": {},
   "outputs": [],
   "source": [
    "import pandas as pd\n",
    "import numpy as np\n",
    "import matplotlib.pyplot as plt\n",
    "% matplotlib inline\n",
    "plt.style.use(\"ggplot\")"
   ]
  },
  {
   "cell_type": "code",
   "execution_count": 178,
   "metadata": {},
   "outputs": [],
   "source": [
    "df = pd.read_csv('Downloads/yelp/last_1_year_restaurant_reviews.csv')"
   ]
  },
  {
   "cell_type": "code",
   "execution_count": 179,
   "metadata": {},
   "outputs": [
    {
     "data": {
      "text/html": [
       "<div>\n",
       "<style scoped>\n",
       "    .dataframe tbody tr th:only-of-type {\n",
       "        vertical-align: middle;\n",
       "    }\n",
       "\n",
       "    .dataframe tbody tr th {\n",
       "        vertical-align: top;\n",
       "    }\n",
       "\n",
       "    .dataframe thead th {\n",
       "        text-align: right;\n",
       "    }\n",
       "</style>\n",
       "<table border=\"1\" class=\"dataframe\">\n",
       "  <thead>\n",
       "    <tr style=\"text-align: right;\">\n",
       "      <th></th>\n",
       "      <th>business_id</th>\n",
       "      <th>name</th>\n",
       "      <th>categories</th>\n",
       "      <th>avg_stars</th>\n",
       "      <th>cool</th>\n",
       "      <th>date</th>\n",
       "      <th>funny</th>\n",
       "      <th>review_id</th>\n",
       "      <th>stars</th>\n",
       "      <th>text</th>\n",
       "      <th>useful</th>\n",
       "      <th>user_id</th>\n",
       "    </tr>\n",
       "  </thead>\n",
       "  <tbody>\n",
       "    <tr>\n",
       "      <th>0</th>\n",
       "      <td>--9e1ONYQuAa-CB_Rrw7Tw</td>\n",
       "      <td>Delmonico Steakhouse</td>\n",
       "      <td>Steakhouses, Restaurants, Cajun/Creole</td>\n",
       "      <td>4.0</td>\n",
       "      <td>0</td>\n",
       "      <td>2017-02-14</td>\n",
       "      <td>0</td>\n",
       "      <td>VETXTwMw6qxzOVDlXfe6Tg</td>\n",
       "      <td>5</td>\n",
       "      <td>went for dinner tonight. Amazing my husband ha...</td>\n",
       "      <td>0</td>\n",
       "      <td>ymlnR8UeFvB4FZL56tCZsA</td>\n",
       "    </tr>\n",
       "    <tr>\n",
       "      <th>1</th>\n",
       "      <td>--9e1ONYQuAa-CB_Rrw7Tw</td>\n",
       "      <td>Delmonico Steakhouse</td>\n",
       "      <td>Steakhouses, Restaurants, Cajun/Creole</td>\n",
       "      <td>4.0</td>\n",
       "      <td>0</td>\n",
       "      <td>2017-12-04</td>\n",
       "      <td>0</td>\n",
       "      <td>S8-8uZ7fa5YbjnEtaW15ng</td>\n",
       "      <td>5</td>\n",
       "      <td>This was an amazing dinning experience! ORDER ...</td>\n",
       "      <td>0</td>\n",
       "      <td>9pSSL6X6lFpY3FCRLEH3og</td>\n",
       "    </tr>\n",
       "    <tr>\n",
       "      <th>2</th>\n",
       "      <td>--9e1ONYQuAa-CB_Rrw7Tw</td>\n",
       "      <td>Delmonico Steakhouse</td>\n",
       "      <td>Steakhouses, Restaurants, Cajun/Creole</td>\n",
       "      <td>4.0</td>\n",
       "      <td>0</td>\n",
       "      <td>2016-09-13</td>\n",
       "      <td>0</td>\n",
       "      <td>N1Z93BthdJ7FT2p5S22jIA</td>\n",
       "      <td>3</td>\n",
       "      <td>Went for a nice anniversary dinner. Researched...</td>\n",
       "      <td>0</td>\n",
       "      <td>CEtidlXNyQzgJSdF1ubPFw</td>\n",
       "    </tr>\n",
       "    <tr>\n",
       "      <th>3</th>\n",
       "      <td>--9e1ONYQuAa-CB_Rrw7Tw</td>\n",
       "      <td>Delmonico Steakhouse</td>\n",
       "      <td>Steakhouses, Restaurants, Cajun/Creole</td>\n",
       "      <td>4.0</td>\n",
       "      <td>0</td>\n",
       "      <td>2017-05-20</td>\n",
       "      <td>0</td>\n",
       "      <td>Pnkrj90xfykhHyo4BSFRsw</td>\n",
       "      <td>5</td>\n",
       "      <td>ABSOLUTE MUST IN VEGAS! Loved everything my bo...</td>\n",
       "      <td>0</td>\n",
       "      <td>cZVQGCZ_fHtTdfiyGVJPdg</td>\n",
       "    </tr>\n",
       "    <tr>\n",
       "      <th>4</th>\n",
       "      <td>--9e1ONYQuAa-CB_Rrw7Tw</td>\n",
       "      <td>Delmonico Steakhouse</td>\n",
       "      <td>Steakhouses, Restaurants, Cajun/Creole</td>\n",
       "      <td>4.0</td>\n",
       "      <td>0</td>\n",
       "      <td>2017-12-30</td>\n",
       "      <td>0</td>\n",
       "      <td>Oeh7e6U2xaDQI9L9i4x_Gw</td>\n",
       "      <td>2</td>\n",
       "      <td>I had high hopes for Delmonico's Steakhouse in...</td>\n",
       "      <td>0</td>\n",
       "      <td>li2cBZl60vgqihDJJG7jeA</td>\n",
       "    </tr>\n",
       "  </tbody>\n",
       "</table>\n",
       "</div>"
      ],
      "text/plain": [
       "              business_id                  name  \\\n",
       "0  --9e1ONYQuAa-CB_Rrw7Tw  Delmonico Steakhouse   \n",
       "1  --9e1ONYQuAa-CB_Rrw7Tw  Delmonico Steakhouse   \n",
       "2  --9e1ONYQuAa-CB_Rrw7Tw  Delmonico Steakhouse   \n",
       "3  --9e1ONYQuAa-CB_Rrw7Tw  Delmonico Steakhouse   \n",
       "4  --9e1ONYQuAa-CB_Rrw7Tw  Delmonico Steakhouse   \n",
       "\n",
       "                               categories  avg_stars  cool        date  funny  \\\n",
       "0  Steakhouses, Restaurants, Cajun/Creole        4.0     0  2017-02-14      0   \n",
       "1  Steakhouses, Restaurants, Cajun/Creole        4.0     0  2017-12-04      0   \n",
       "2  Steakhouses, Restaurants, Cajun/Creole        4.0     0  2016-09-13      0   \n",
       "3  Steakhouses, Restaurants, Cajun/Creole        4.0     0  2017-05-20      0   \n",
       "4  Steakhouses, Restaurants, Cajun/Creole        4.0     0  2017-12-30      0   \n",
       "\n",
       "                review_id  stars  \\\n",
       "0  VETXTwMw6qxzOVDlXfe6Tg      5   \n",
       "1  S8-8uZ7fa5YbjnEtaW15ng      5   \n",
       "2  N1Z93BthdJ7FT2p5S22jIA      3   \n",
       "3  Pnkrj90xfykhHyo4BSFRsw      5   \n",
       "4  Oeh7e6U2xaDQI9L9i4x_Gw      2   \n",
       "\n",
       "                                                text  useful  \\\n",
       "0  went for dinner tonight. Amazing my husband ha...       0   \n",
       "1  This was an amazing dinning experience! ORDER ...       0   \n",
       "2  Went for a nice anniversary dinner. Researched...       0   \n",
       "3  ABSOLUTE MUST IN VEGAS! Loved everything my bo...       0   \n",
       "4  I had high hopes for Delmonico's Steakhouse in...       0   \n",
       "\n",
       "                  user_id  \n",
       "0  ymlnR8UeFvB4FZL56tCZsA  \n",
       "1  9pSSL6X6lFpY3FCRLEH3og  \n",
       "2  CEtidlXNyQzgJSdF1ubPFw  \n",
       "3  cZVQGCZ_fHtTdfiyGVJPdg  \n",
       "4  li2cBZl60vgqihDJJG7jeA  "
      ]
     },
     "execution_count": 179,
     "metadata": {},
     "output_type": "execute_result"
    }
   ],
   "source": [
    "df.head()"
   ]
  },
  {
   "cell_type": "code",
   "execution_count": 180,
   "metadata": {},
   "outputs": [],
   "source": [
    "documents=df['text'].values"
   ]
  },
  {
   "cell_type": "code",
   "execution_count": 181,
   "metadata": {},
   "outputs": [
    {
     "data": {
      "text/plain": [
       "(dtype('O'), (365550,))"
      ]
     },
     "execution_count": 181,
     "metadata": {},
     "output_type": "execute_result"
    }
   ],
   "source": [
    "documents.dtype,documents.shape"
   ]
  },
  {
   "cell_type": "code",
   "execution_count": 182,
   "metadata": {},
   "outputs": [
    {
     "data": {
      "text/plain": [
       "array([\"went for dinner tonight. Amazing my husband had lobster bisque and the T bone both were delish.I had the French onion soup and the pan seared duck. Cooked to perfection and I'm still raving about the flavor. If you are ever in Vegas this is a must try.\",\n",
       "       'This was an amazing dinning experience! ORDER THE PORK CHOP! I will definitely return.',\n",
       "       \"Went for a nice anniversary dinner. Researched a lot of steakhouses and thought this was reasonably priced (compared to others) for Vegas so thought we'd give it a shot. made reservations but was not crowded on a Monday night. We split the bbq shrimp which were very good for an appetizer. Then we each had salads. I ordered the filet mignon which was a small 6oz serving for $50. I could've easily eaten 2 of them. But the steak was very tender and nicely seasoned. Husband had the bone in ribeye which is what they are known for. He enjoyed it. We split the mashed potatoes which were very good, but kinda hard to screw those up. We each had 1 drink and the bill was $200. Service was good. They give you nice warm rolls which were tasty. We would go back, but we like trying new places and it will probably be a few years before we go back to Vegas anyways.\"],\n",
       "      dtype=object)"
      ]
     },
     "execution_count": 182,
     "metadata": {},
     "output_type": "execute_result"
    }
   ],
   "source": [
    "documents[:3]"
   ]
  },
  {
   "cell_type": "code",
   "execution_count": 184,
   "metadata": {},
   "outputs": [],
   "source": [
    "df['favorable']=(df['stars']>4)"
   ]
  },
  {
   "cell_type": "code",
   "execution_count": 185,
   "metadata": {},
   "outputs": [],
   "source": [
    "target=df['favorable'].values"
   ]
  },
  {
   "cell_type": "code",
   "execution_count": 186,
   "metadata": {},
   "outputs": [
    {
     "data": {
      "text/plain": [
       "array([ True,  True, False,  True, False, False, False, False,  True,\n",
       "        True])"
      ]
     },
     "execution_count": 186,
     "metadata": {},
     "output_type": "execute_result"
    }
   ],
   "source": [
    "target[:10]"
   ]
  },
  {
   "cell_type": "code",
   "execution_count": 187,
   "metadata": {},
   "outputs": [
    {
     "data": {
      "text/plain": [
       "0.49467377923676653"
      ]
     },
     "execution_count": 187,
     "metadata": {},
     "output_type": "execute_result"
    }
   ],
   "source": [
    "target.mean()"
   ]
  },
  {
   "cell_type": "code",
   "execution_count": 188,
   "metadata": {},
   "outputs": [
    {
     "data": {
      "text/plain": [
       "((365550,), (365550,))"
      ]
     },
     "execution_count": 188,
     "metadata": {},
     "output_type": "execute_result"
    }
   ],
   "source": [
    "documents.shape, target.shape"
   ]
  },
  {
   "cell_type": "code",
   "execution_count": 189,
   "metadata": {},
   "outputs": [],
   "source": [
    "from sklearn.cross_validation import train_test_split"
   ]
  },
  {
   "cell_type": "code",
   "execution_count": 190,
   "metadata": {},
   "outputs": [],
   "source": [
    "documents_train, documents_test, target_train, target_test = train_test_split(\n",
    "documents, target, test_size=0.95, random_state=42)"
   ]
  },
  {
   "cell_type": "code",
   "execution_count": 191,
   "metadata": {},
   "outputs": [],
   "source": [
    "from sklearn.feature_extraction.text import TfidfVectorizer"
   ]
  },
  {
   "cell_type": "code",
   "execution_count": 192,
   "metadata": {},
   "outputs": [],
   "source": [
    "vectorizer = TfidfVectorizer(stop_words = 'english', max_features=1000)"
   ]
  },
  {
   "cell_type": "code",
   "execution_count": 193,
   "metadata": {},
   "outputs": [],
   "source": [
    "vectors_train=vectorizer.fit_transform(documents_train).toarray()"
   ]
  },
  {
   "cell_type": "code",
   "execution_count": 195,
   "metadata": {},
   "outputs": [],
   "source": [
    "words=vectorizer.get_feature_names()"
   ]
  },
  {
   "cell_type": "code",
   "execution_count": 196,
   "metadata": {},
   "outputs": [
    {
     "data": {
      "text/plain": [
       "(18277, 1000)"
      ]
     },
     "execution_count": 196,
     "metadata": {},
     "output_type": "execute_result"
    }
   ],
   "source": [
    "vectors_train.shape"
   ]
  },
  {
   "cell_type": "code",
   "execution_count": 197,
   "metadata": {},
   "outputs": [],
   "source": [
    "vectors_documents = vectorizer.transform(documents).toarray()"
   ]
  },
  {
   "cell_type": "code",
   "execution_count": 198,
   "metadata": {},
   "outputs": [],
   "source": [
    "from sklearn.cluster import KMeans"
   ]
  },
  {
   "cell_type": "code",
   "execution_count": 199,
   "metadata": {},
   "outputs": [
    {
     "data": {
      "text/plain": [
       "KMeans(algorithm='auto', copy_x=True, init='k-means++', max_iter=300,\n",
       "    n_clusters=8, n_init=10, n_jobs=1, precompute_distances='auto',\n",
       "    random_state=None, tol=0.0001, verbose=0)"
      ]
     },
     "execution_count": 199,
     "metadata": {},
     "output_type": "execute_result"
    }
   ],
   "source": [
    "kmeans = KMeans()\n",
    "kmeans.fit(vectors_train)"
   ]
  },
  {
   "cell_type": "code",
   "execution_count": 200,
   "metadata": {},
   "outputs": [],
   "source": [
    "assigned_cluster=kmeans.predict(vectors_documents)"
   ]
  },
  {
   "cell_type": "code",
   "execution_count": 201,
   "metadata": {},
   "outputs": [
    {
     "name": "stdout",
     "output_type": "stream",
     "text": [
      "cluster centers\n",
      "(8, 1000)\n"
     ]
    }
   ],
   "source": [
    "print(\"cluster centers\")\n",
    "print(kmeans.cluster_centers_.shape)"
   ]
  },
  {
   "cell_type": "code",
   "execution_count": 202,
   "metadata": {},
   "outputs": [],
   "source": [
    "n_feat=10\n",
    "top_centroids = kmeans.cluster_centers_.argsort()[:,-1:-n_feat:-1]"
   ]
  },
  {
   "cell_type": "code",
   "execution_count": 203,
   "metadata": {},
   "outputs": [
    {
     "name": "stdout",
     "output_type": "stream",
     "text": [
      "top features for each cluster:\n",
      "0: chicken, rice, good, fried, food, ramen, place, ordered, spicy\n",
      "1: good, food, place, vegas, best, service, delicious, amazing, like\n",
      "2: friendly, staff, food, place, great, good, service, amazing, super\n",
      "3: burger, fries, burgers, good, cheese, place, food, shake, great\n",
      "4: sushi, rolls, place, great, roll, good, service, ayce, fresh\n",
      "5: great, food, service, place, amazing, good, definitely, awesome, atmosphere\n",
      "6: order, food, minutes, service, time, just, came, didn, got\n",
      "7: pizza, good, crust, place, cheese, slice, great, order, just\n"
     ]
    }
   ],
   "source": [
    "print(\"top features for each cluster:\")\n",
    "for num, centroid in enumerate(top_centroids):\n",
    "    print(\"%d: %s\" % (num, \", \".join(words[i] for i in centroid)))"
   ]
  },
  {
   "cell_type": "code",
   "execution_count": 205,
   "metadata": {},
   "outputs": [
    {
     "data": {
      "text/plain": [
       "KMeans(algorithm='auto', copy_x=True, init='k-means++', max_iter=300,\n",
       "    n_clusters=6, n_init=10, n_jobs=1, precompute_distances='auto',\n",
       "    random_state=None, tol=0.0001, verbose=0)"
      ]
     },
     "execution_count": 205,
     "metadata": {},
     "output_type": "execute_result"
    }
   ],
   "source": [
    "from sklearn.cluster import KMeans\n",
    "kmeans = KMeans(n_clusters=6)\n",
    "kmeans.fit(vectors_train)"
   ]
  },
  {
   "cell_type": "code",
   "execution_count": 206,
   "metadata": {},
   "outputs": [],
   "source": [
    "assigned_cluster=kmeans.predict(vectors_documents)"
   ]
  },
  {
   "cell_type": "code",
   "execution_count": 207,
   "metadata": {},
   "outputs": [],
   "source": [
    "n_feat=10\n",
    "top_centroids = kmeans.cluster_centers_.argsort()[:,-1:-n_feat:-1]"
   ]
  },
  {
   "cell_type": "code",
   "execution_count": 208,
   "metadata": {},
   "outputs": [
    {
     "name": "stdout",
     "output_type": "stream",
     "text": [
      "top features for each cluster:\n",
      "0: order, food, minutes, just, time, service, came, didn, got\n",
      "1: chicken, good, burger, ordered, fries, food, rice, place, fried\n",
      "2: pizza, good, place, crust, cheese, great, slice, order, just\n",
      "3: great, food, service, place, good, amazing, staff, definitely, friendly\n",
      "4: sushi, rolls, place, great, roll, good, service, ayce, fresh\n",
      "5: food, place, good, vegas, best, service, amazing, delicious, love\n"
     ]
    }
   ],
   "source": [
    "print(\"top features for each cluster:\")\n",
    "for num, centroid in enumerate(top_centroids):\n",
    "    print(\"%d: %s\" % (num, \", \".join(words[i] for i in centroid)))"
   ]
  },
  {
   "cell_type": "code",
   "execution_count": 209,
   "metadata": {},
   "outputs": [
    {
     "data": {
      "text/plain": [
       "array([0, 1, 2, 3, 4, 5], dtype=int32)"
      ]
     },
     "execution_count": 209,
     "metadata": {},
     "output_type": "execute_result"
    }
   ],
   "source": [
    "np.unique(assigned_cluster)"
   ]
  },
  {
   "cell_type": "code",
   "execution_count": 212,
   "metadata": {},
   "outputs": [
    {
     "name": "stdout",
     "output_type": "stream",
     "text": [
      "==========\n",
      "Cluster 0:\n",
      "    1 - \n",
      "Wow, what a disaster!\n",
      "\n",
      "Been a regular at Del Frisco's since my first 2002 visit to the Manhattan location, on a scale of 1-10 ... its always a 10!  The Las Vegas location always scored an 8-9 in my book, while Denver come's in at 7-8, my last visit to Denver pushed into the 8+ territory.\n",
      "\n",
      "However something is going seriously sideways at the Vegas location, first of all I didn't recognize a single person. Next observation was empty tables on a CES weekend ... never a good sign!  We were seated and greeted by some sort of team effort wait staff, wow, who's stupid idea was this. My King Crab arrived 10 minutes after the steaks, served stone cold with unsalted, unheated butter.  We witnessed 3 waiters taking food orders at one table while the rest of the room went unattended.  It took 5 minutes just to flag down a bus boy, no eye contact, nobody paying attention. \n",
      "\n",
      "An unapologetic manager arrived 10 minutes later offering to make things right. By then I had already finished eating half of my wife's bone dry medium-rare steak and the horrible tasting cream corn and potatoes. We would have left right then and there but it took another 10 minutes just to flag a waiter for our check.\n",
      "\n",
      "With all this down time we had a chance to look around at the other tables. Not one steak had any juice on the bottom of the plate, none of the side dishes had that perfect Del Frisco presentation. To the uninitiated everything may appear OK, however as a long time Del Fisconeer it's a serious disappointment. A free so-so tasting lemon cake did little to take the edge of the experience, I just wanted out of there ...\n",
      "\n",
      "I don't know what to think ... I'm not looking for a free meal ... or corporate apology. \n",
      "\n",
      "I just want my Vegas Del Frisco's back.\n",
      "    2 - \n",
      "I don't know why people would even go back. I am sorry but the chicken is so small and the breading is so large :( it's truly a healthy person's nightmare. I feel bad giving a bad review the place was clean, well lit, and the food was hot and the service was great. It's just the food, is so bad for you. I can't ever go there again, thanks.\n",
      "\n",
      "==========\n",
      "Cluster 1:\n",
      "    2 - \n",
      "The most I can say about Eggslut is that I didn't hate the place. The food however was not that good (I got a sandwich with scrambled eggs, cheese, and sautéed onions). Though the onions were actually really good, the eggs were under seasoned and didn't actually stay inside the bread, so I ended up eating mostly bread for a while (plain tasting) and then mostly egg for a while (also plain tasting).\n",
      "\n",
      "The wait is super long, we waited for almost an hour; the pricing is crazy expensive for what you get (I almost got the Eggslut but realized it was TINY); and the eggs are plain. It was pretty cool to watch them make the food, though. It was fine to go to once to understand the hype, but I wouldn't say it's worth it to go again.\n",
      "    5 - \n",
      "I have been here many times and still in love! This place gives me the 'craves.' I would always crave for it's flavorful spicy dishes. If you don't know it already, Szechuan food = spicy Chinese food to be short. And guess what, I used to not being able to eat spicy food, but because I love their food so much I force myself to suck up the spiciness - now I can enjoy eating everything here (without suffering!) \n",
      "\n",
      "My favorite dish is definitely toothpicks lamb with cumin. I can seriously have it everyday. Mung bean jelly noodle with chili sauce is also a must order appetizer. It would numb your tongue a little. One other must try is the garlic jalapeno shrimp with fries (I don't know the exact English name because it used to be off the menu.) It's full of flavor with garlic, green onions, jalapenos, potato fries, and fried shrimp with shell that you can eat it together. Rice dish I would suggest their Chengdu fried rice - it was shockingly delicious! The chef done a great job in every dish, everything was made with years of experience that we could taste it. The portions are fairly big so order accordingly. To balance everything out you can also try their plum juice. It's great for digesting and reduce the greasy (yummy) taste.\n",
      "\n",
      "The service is pretty good for a Chinese restaurant. Our server was very patient and polite to explain the menu in details and meet our specific request. The price is very reasonable considering the big portion and quality of food. This will always be my top choice for Szechuan food in Las Vegas.\n",
      "\n",
      "==========\n",
      "Cluster 2:\n",
      "    2 - \n",
      "I'm not really sure how this place has so many amazing reviews. We went off in search of this pizza after a long night of drinking and lucked out with only a couple people in line. We tried the basic, cheese for me and pepperoni for my bf. Both were dry and not very flavorful. Maybe we tried the wrong toppings? Maybe when you get pizza that's freshly made it's better and we just came at an off time?\n",
      "    1 - \n",
      "Went in the beginning of the week, place has new owners new everything looks like they're trying but the pizza is changed and I didn't see our favorite workers Amber and Martin so we decided to eat somewhere else...it's not the same nobody even greeted me and my husband when we walked in the pizza guy just looked at us\n",
      "\n",
      "==========\n",
      "Cluster 3:\n",
      "    4 - \n",
      "I was actually really impressed with topgolf. It really is quite a beautiful space to golf. It's a great place to come with friends and make fun of how horrible their swing is. \n",
      "\n",
      "Pros: Local discount, beautiful view, awesome food(reasonable price).\n",
      "\n",
      "Cons: Loooong wait time(2-3 hours unless you reserve a pay with a minimum food and beverage tab) \"Server\" was really rude. I was a server for 4 years and she definitely needs to learn a thing or two about customer service. \n",
      "\n",
      "Overall I definitely want to come back but will request a different server if she is assigned to that bay.\n",
      "    5 - \n",
      "One of the best gaming bars in town. I started coming here because of Ronda and I'm glad I did. She always makes me feel welcome and has my drink ready when I walk in the door. The food here is great, the pizza and wing combo is a great deal. Having gamblers bonus is a huge plus, one of the best gaming companies in town.\n",
      "\n",
      "==========\n",
      "Cluster 4:\n",
      "    5 - \n",
      "I have always seen this place but never paid much attention to it. I decided to look up the menu through Yelp and saw they had a lot of vegetarian options for sushi and ramen! I now have a new sushi/ramen place to come to! Food was flavorful and filling!\n",
      "    4 - \n",
      "16.95 for all you can eat KBBQ and 21.95 for all you can eat KBBQ AND SUSHI! That's a good deal compared to many AYCE places! Their KBBQ is very yummy! The sushi is ok, but it's good to slightly satisfy cravings for cheap. You can always just go for the kbbq though (which is what I do whenever I come here). Their salad and edamame are also very good !!! The service was also great! Everyone is friendly and they always check up on you. They usually cook it for you so you can just sit back and relax!\n",
      "\n",
      "Another perk is that they have melona popsicles for dessert ! How can you go wrong with thatttt :)!\n",
      "\n",
      "==========\n",
      "Cluster 5:\n",
      "    5 - \n",
      "Fantastic food, incredible service. 100% worth the stop if you're close. I got the mahi tacos. Next time I'm going to try the mole as recommended by Jose - what an awesome guy! Will definitely be back soon :)\n",
      "    5 - \n",
      "We ordered a bunch of small plates, all were well thought out and had complex flavors. It was delicious. The waiters were attentive and helpful. The ambiance is bright and trendy. I definitely recommend if this place if you enjoy Italian/Mediterranean flavors.\n",
      "\n"
     ]
    },
    {
     "name": "stderr",
     "output_type": "stream",
     "text": [
      "/anaconda3/lib/python3.6/site-packages/ipykernel_launcher.py:7: DeprecationWarning: \n",
      ".ix is deprecated. Please use\n",
      ".loc for label based indexing or\n",
      ".iloc for positional indexing\n",
      "\n",
      "See the documentation here:\n",
      "http://pandas.pydata.org/pandas-docs/stable/indexing.html#ix-indexer-is-deprecated\n",
      "  import sys\n",
      "/anaconda3/lib/python3.6/site-packages/ipykernel_launcher.py:8: DeprecationWarning: \n",
      ".ix is deprecated. Please use\n",
      ".loc for label based indexing or\n",
      ".iloc for positional indexing\n",
      "\n",
      "See the documentation here:\n",
      "http://pandas.pydata.org/pandas-docs/stable/indexing.html#ix-indexer-is-deprecated\n",
      "  \n"
     ]
    }
   ],
   "source": [
    "for i in range(kmeans.n_clusters):\n",
    "    cluster=np.arange(0,vectors_documents.shape[0])[assigned_cluster==i]\n",
    "    sample_reviews = np.random.choice(cluster,2,replace=False)\n",
    "    print(\"=\" * 10)\n",
    "    print(\"Cluster %d:\" % i)\n",
    "    for review_index in sample_reviews:\n",
    "        print(\"    %s - \" % df.ix[review_index]['stars']),\n",
    "        print(\"%s\" % df.ix[review_index]['text'])\n",
    "    print()"
   ]
  },
  {
   "cell_type": "code",
   "execution_count": 213,
   "metadata": {},
   "outputs": [],
   "source": [
    "most_reviewed_restaurant = df['business_id'].value_counts().index[0]"
   ]
  },
  {
   "cell_type": "code",
   "execution_count": 214,
   "metadata": {},
   "outputs": [],
   "source": [
    "df_top_restaurant = df[df['business_id'] == most_reviewed_restaurant].copy().reset_index()"
   ]
  },
  {
   "cell_type": "code",
   "execution_count": 215,
   "metadata": {},
   "outputs": [
    {
     "data": {
      "text/html": [
       "<div>\n",
       "<style scoped>\n",
       "    .dataframe tbody tr th:only-of-type {\n",
       "        vertical-align: middle;\n",
       "    }\n",
       "\n",
       "    .dataframe tbody tr th {\n",
       "        vertical-align: top;\n",
       "    }\n",
       "\n",
       "    .dataframe thead th {\n",
       "        text-align: right;\n",
       "    }\n",
       "</style>\n",
       "<table border=\"1\" class=\"dataframe\">\n",
       "  <thead>\n",
       "    <tr style=\"text-align: right;\">\n",
       "      <th></th>\n",
       "      <th>index</th>\n",
       "      <th>business_id</th>\n",
       "      <th>name</th>\n",
       "      <th>categories</th>\n",
       "      <th>avg_stars</th>\n",
       "      <th>cool</th>\n",
       "      <th>date</th>\n",
       "      <th>funny</th>\n",
       "      <th>review_id</th>\n",
       "      <th>stars</th>\n",
       "      <th>text</th>\n",
       "      <th>useful</th>\n",
       "      <th>user_id</th>\n",
       "      <th>favorable</th>\n",
       "    </tr>\n",
       "  </thead>\n",
       "  <tbody>\n",
       "    <tr>\n",
       "      <th>0</th>\n",
       "      <td>160289</td>\n",
       "      <td>RESDUcs7fIiihp38-d6_6g</td>\n",
       "      <td>Bacchanal Buffet</td>\n",
       "      <td>Sandwiches, Buffets, Breakfast &amp; Brunch, Food,...</td>\n",
       "      <td>4.0</td>\n",
       "      <td>0</td>\n",
       "      <td>2017-09-09</td>\n",
       "      <td>0</td>\n",
       "      <td>mQfl6ci46mu0xaZrkRUhlA</td>\n",
       "      <td>5</td>\n",
       "      <td>This buffet is amazing.  Yes, it is expensive,...</td>\n",
       "      <td>0</td>\n",
       "      <td>f638AHA_GoHbyDB7VFMz7A</td>\n",
       "      <td>True</td>\n",
       "    </tr>\n",
       "    <tr>\n",
       "      <th>1</th>\n",
       "      <td>160290</td>\n",
       "      <td>RESDUcs7fIiihp38-d6_6g</td>\n",
       "      <td>Bacchanal Buffet</td>\n",
       "      <td>Sandwiches, Buffets, Breakfast &amp; Brunch, Food,...</td>\n",
       "      <td>4.0</td>\n",
       "      <td>0</td>\n",
       "      <td>2017-02-08</td>\n",
       "      <td>0</td>\n",
       "      <td>lMarDJDg4-e_0YoJOKJoWA</td>\n",
       "      <td>2</td>\n",
       "      <td>This place....lol our server was nice.  But fo...</td>\n",
       "      <td>0</td>\n",
       "      <td>A21zMqdN76ueLZFpmbue0Q</td>\n",
       "      <td>False</td>\n",
       "    </tr>\n",
       "    <tr>\n",
       "      <th>2</th>\n",
       "      <td>160291</td>\n",
       "      <td>RESDUcs7fIiihp38-d6_6g</td>\n",
       "      <td>Bacchanal Buffet</td>\n",
       "      <td>Sandwiches, Buffets, Breakfast &amp; Brunch, Food,...</td>\n",
       "      <td>4.0</td>\n",
       "      <td>0</td>\n",
       "      <td>2017-12-22</td>\n",
       "      <td>0</td>\n",
       "      <td>30xmXTzJwHPcqt0uvSLQhQ</td>\n",
       "      <td>3</td>\n",
       "      <td>One star knocked off for the cold air conditio...</td>\n",
       "      <td>0</td>\n",
       "      <td>uNHEnP28MMmVy96ZSJKaMA</td>\n",
       "      <td>False</td>\n",
       "    </tr>\n",
       "    <tr>\n",
       "      <th>3</th>\n",
       "      <td>160292</td>\n",
       "      <td>RESDUcs7fIiihp38-d6_6g</td>\n",
       "      <td>Bacchanal Buffet</td>\n",
       "      <td>Sandwiches, Buffets, Breakfast &amp; Brunch, Food,...</td>\n",
       "      <td>4.0</td>\n",
       "      <td>0</td>\n",
       "      <td>2017-09-22</td>\n",
       "      <td>0</td>\n",
       "      <td>SOUuNn4f1fHKxFHntYzonw</td>\n",
       "      <td>3</td>\n",
       "      <td>Was torn between 2 and 3.  Caught the last of ...</td>\n",
       "      <td>0</td>\n",
       "      <td>WvVqnHU_eVBUfL-CI9efdw</td>\n",
       "      <td>False</td>\n",
       "    </tr>\n",
       "    <tr>\n",
       "      <th>4</th>\n",
       "      <td>160293</td>\n",
       "      <td>RESDUcs7fIiihp38-d6_6g</td>\n",
       "      <td>Bacchanal Buffet</td>\n",
       "      <td>Sandwiches, Buffets, Breakfast &amp; Brunch, Food,...</td>\n",
       "      <td>4.0</td>\n",
       "      <td>0</td>\n",
       "      <td>2016-12-14</td>\n",
       "      <td>0</td>\n",
       "      <td>1mAf8vTO6TGTrQ3WSfTB3g</td>\n",
       "      <td>4</td>\n",
       "      <td>This place was one of those once in a lifetime...</td>\n",
       "      <td>0</td>\n",
       "      <td>aYLS5lhdCp5HSPOtkMvapw</td>\n",
       "      <td>False</td>\n",
       "    </tr>\n",
       "    <tr>\n",
       "      <th>5</th>\n",
       "      <td>160294</td>\n",
       "      <td>RESDUcs7fIiihp38-d6_6g</td>\n",
       "      <td>Bacchanal Buffet</td>\n",
       "      <td>Sandwiches, Buffets, Breakfast &amp; Brunch, Food,...</td>\n",
       "      <td>4.0</td>\n",
       "      <td>0</td>\n",
       "      <td>2017-06-18</td>\n",
       "      <td>0</td>\n",
       "      <td>nnmcNHGLa6TTZ4KP7ZrU7A</td>\n",
       "      <td>1</td>\n",
       "      <td>Food is subpar. There's a line to get to pay, ...</td>\n",
       "      <td>0</td>\n",
       "      <td>KIbfAG_JrTEPt6aQXcnQJg</td>\n",
       "      <td>False</td>\n",
       "    </tr>\n",
       "    <tr>\n",
       "      <th>6</th>\n",
       "      <td>160295</td>\n",
       "      <td>RESDUcs7fIiihp38-d6_6g</td>\n",
       "      <td>Bacchanal Buffet</td>\n",
       "      <td>Sandwiches, Buffets, Breakfast &amp; Brunch, Food,...</td>\n",
       "      <td>4.0</td>\n",
       "      <td>1</td>\n",
       "      <td>2017-02-28</td>\n",
       "      <td>0</td>\n",
       "      <td>NXOgf4JQNbskd2XYhPJB7A</td>\n",
       "      <td>5</td>\n",
       "      <td>This buffet was amazing! It was a bit pricey, ...</td>\n",
       "      <td>1</td>\n",
       "      <td>wHeH7PwKHubMjmx9SroN4w</td>\n",
       "      <td>True</td>\n",
       "    </tr>\n",
       "    <tr>\n",
       "      <th>7</th>\n",
       "      <td>160296</td>\n",
       "      <td>RESDUcs7fIiihp38-d6_6g</td>\n",
       "      <td>Bacchanal Buffet</td>\n",
       "      <td>Sandwiches, Buffets, Breakfast &amp; Brunch, Food,...</td>\n",
       "      <td>4.0</td>\n",
       "      <td>0</td>\n",
       "      <td>2016-11-24</td>\n",
       "      <td>0</td>\n",
       "      <td>R97X06G0_2bbmPp4zmelzA</td>\n",
       "      <td>1</td>\n",
       "      <td>The lines are too long and they manage the lin...</td>\n",
       "      <td>0</td>\n",
       "      <td>oyDVFvjN4DSV6cB1qNbcPQ</td>\n",
       "      <td>False</td>\n",
       "    </tr>\n",
       "    <tr>\n",
       "      <th>8</th>\n",
       "      <td>160297</td>\n",
       "      <td>RESDUcs7fIiihp38-d6_6g</td>\n",
       "      <td>Bacchanal Buffet</td>\n",
       "      <td>Sandwiches, Buffets, Breakfast &amp; Brunch, Food,...</td>\n",
       "      <td>4.0</td>\n",
       "      <td>0</td>\n",
       "      <td>2016-12-19</td>\n",
       "      <td>0</td>\n",
       "      <td>yx8hKAOF0bNd56GgFljjxw</td>\n",
       "      <td>4</td>\n",
       "      <td>This is my favorite buffet in LV. There is so ...</td>\n",
       "      <td>1</td>\n",
       "      <td>f1CbfW56DOndXHd1yfADYg</td>\n",
       "      <td>False</td>\n",
       "    </tr>\n",
       "    <tr>\n",
       "      <th>9</th>\n",
       "      <td>160298</td>\n",
       "      <td>RESDUcs7fIiihp38-d6_6g</td>\n",
       "      <td>Bacchanal Buffet</td>\n",
       "      <td>Sandwiches, Buffets, Breakfast &amp; Brunch, Food,...</td>\n",
       "      <td>4.0</td>\n",
       "      <td>0</td>\n",
       "      <td>2017-07-02</td>\n",
       "      <td>0</td>\n",
       "      <td>Xci8QJaDOB7OazJIP9U0Cw</td>\n",
       "      <td>5</td>\n",
       "      <td>I'm staying at Caesar's Palace for 4th of July...</td>\n",
       "      <td>0</td>\n",
       "      <td>J90_7u_8vPYa03GMohNxAA</td>\n",
       "      <td>True</td>\n",
       "    </tr>\n",
       "    <tr>\n",
       "      <th>10</th>\n",
       "      <td>160299</td>\n",
       "      <td>RESDUcs7fIiihp38-d6_6g</td>\n",
       "      <td>Bacchanal Buffet</td>\n",
       "      <td>Sandwiches, Buffets, Breakfast &amp; Brunch, Food,...</td>\n",
       "      <td>4.0</td>\n",
       "      <td>0</td>\n",
       "      <td>2016-12-22</td>\n",
       "      <td>0</td>\n",
       "      <td>ln43Np8D9ZjMhUk8kJAFAA</td>\n",
       "      <td>5</td>\n",
       "      <td>Well - this buffet is the buffet to ruin me fo...</td>\n",
       "      <td>0</td>\n",
       "      <td>XqplU1pecde94DR7gXO5WQ</td>\n",
       "      <td>True</td>\n",
       "    </tr>\n",
       "    <tr>\n",
       "      <th>11</th>\n",
       "      <td>160300</td>\n",
       "      <td>RESDUcs7fIiihp38-d6_6g</td>\n",
       "      <td>Bacchanal Buffet</td>\n",
       "      <td>Sandwiches, Buffets, Breakfast &amp; Brunch, Food,...</td>\n",
       "      <td>4.0</td>\n",
       "      <td>0</td>\n",
       "      <td>2017-11-26</td>\n",
       "      <td>0</td>\n",
       "      <td>n6rHMUT-AWKkAro8Ho6-Fw</td>\n",
       "      <td>4</td>\n",
       "      <td>Sunday brunch at Caesar's is pricey. The food ...</td>\n",
       "      <td>2</td>\n",
       "      <td>sfpgA58pdGKebocTe4N_-w</td>\n",
       "      <td>False</td>\n",
       "    </tr>\n",
       "    <tr>\n",
       "      <th>12</th>\n",
       "      <td>160301</td>\n",
       "      <td>RESDUcs7fIiihp38-d6_6g</td>\n",
       "      <td>Bacchanal Buffet</td>\n",
       "      <td>Sandwiches, Buffets, Breakfast &amp; Brunch, Food,...</td>\n",
       "      <td>4.0</td>\n",
       "      <td>0</td>\n",
       "      <td>2017-04-06</td>\n",
       "      <td>0</td>\n",
       "      <td>vAohFUTT0d8GkMPyItcT5Q</td>\n",
       "      <td>5</td>\n",
       "      <td>Best buffet in Vegas!  By far this buffet in i...</td>\n",
       "      <td>0</td>\n",
       "      <td>Hc0v8M1RP6sUuFQ2_zLP6Q</td>\n",
       "      <td>True</td>\n",
       "    </tr>\n",
       "    <tr>\n",
       "      <th>13</th>\n",
       "      <td>160302</td>\n",
       "      <td>RESDUcs7fIiihp38-d6_6g</td>\n",
       "      <td>Bacchanal Buffet</td>\n",
       "      <td>Sandwiches, Buffets, Breakfast &amp; Brunch, Food,...</td>\n",
       "      <td>4.0</td>\n",
       "      <td>0</td>\n",
       "      <td>2017-05-21</td>\n",
       "      <td>0</td>\n",
       "      <td>bwi8o0poN-38SrLla5cPCg</td>\n",
       "      <td>1</td>\n",
       "      <td>Below average, most items not served hot. Too ...</td>\n",
       "      <td>0</td>\n",
       "      <td>sY3dmQqrXChk_Xu8Oq3bNw</td>\n",
       "      <td>False</td>\n",
       "    </tr>\n",
       "    <tr>\n",
       "      <th>14</th>\n",
       "      <td>160303</td>\n",
       "      <td>RESDUcs7fIiihp38-d6_6g</td>\n",
       "      <td>Bacchanal Buffet</td>\n",
       "      <td>Sandwiches, Buffets, Breakfast &amp; Brunch, Food,...</td>\n",
       "      <td>4.0</td>\n",
       "      <td>0</td>\n",
       "      <td>2016-11-02</td>\n",
       "      <td>0</td>\n",
       "      <td>4ugQyvjbHOTX2GINUWwPAQ</td>\n",
       "      <td>3</td>\n",
       "      <td>It was good food, a lot of choices and very cl...</td>\n",
       "      <td>0</td>\n",
       "      <td>6PAwZhgLN7SiIJQOCsOAAQ</td>\n",
       "      <td>False</td>\n",
       "    </tr>\n",
       "    <tr>\n",
       "      <th>15</th>\n",
       "      <td>160304</td>\n",
       "      <td>RESDUcs7fIiihp38-d6_6g</td>\n",
       "      <td>Bacchanal Buffet</td>\n",
       "      <td>Sandwiches, Buffets, Breakfast &amp; Brunch, Food,...</td>\n",
       "      <td>4.0</td>\n",
       "      <td>0</td>\n",
       "      <td>2017-10-25</td>\n",
       "      <td>0</td>\n",
       "      <td>a6eHidYE-UuIEjHLv6HWEQ</td>\n",
       "      <td>4</td>\n",
       "      <td>I really liked all the options they have here....</td>\n",
       "      <td>0</td>\n",
       "      <td>6y6DP6oaKsrjWJzZgBPsrw</td>\n",
       "      <td>False</td>\n",
       "    </tr>\n",
       "    <tr>\n",
       "      <th>16</th>\n",
       "      <td>160305</td>\n",
       "      <td>RESDUcs7fIiihp38-d6_6g</td>\n",
       "      <td>Bacchanal Buffet</td>\n",
       "      <td>Sandwiches, Buffets, Breakfast &amp; Brunch, Food,...</td>\n",
       "      <td>4.0</td>\n",
       "      <td>0</td>\n",
       "      <td>2017-04-30</td>\n",
       "      <td>0</td>\n",
       "      <td>ONiPKlYDi4TSrc6cSTF_Rw</td>\n",
       "      <td>1</td>\n",
       "      <td>The food is not so uniformly bad that it warra...</td>\n",
       "      <td>0</td>\n",
       "      <td>zNIY5gxR2Co3zxwzhNUqdw</td>\n",
       "      <td>False</td>\n",
       "    </tr>\n",
       "    <tr>\n",
       "      <th>17</th>\n",
       "      <td>160306</td>\n",
       "      <td>RESDUcs7fIiihp38-d6_6g</td>\n",
       "      <td>Bacchanal Buffet</td>\n",
       "      <td>Sandwiches, Buffets, Breakfast &amp; Brunch, Food,...</td>\n",
       "      <td>4.0</td>\n",
       "      <td>0</td>\n",
       "      <td>2017-12-25</td>\n",
       "      <td>0</td>\n",
       "      <td>EgzMuY3EFSlHXHt4CsrVwQ</td>\n",
       "      <td>1</td>\n",
       "      <td>This review is for customer service and not fo...</td>\n",
       "      <td>0</td>\n",
       "      <td>W-Qv_mWXqXQRO_tHEA5IdA</td>\n",
       "      <td>False</td>\n",
       "    </tr>\n",
       "    <tr>\n",
       "      <th>18</th>\n",
       "      <td>160307</td>\n",
       "      <td>RESDUcs7fIiihp38-d6_6g</td>\n",
       "      <td>Bacchanal Buffet</td>\n",
       "      <td>Sandwiches, Buffets, Breakfast &amp; Brunch, Food,...</td>\n",
       "      <td>4.0</td>\n",
       "      <td>0</td>\n",
       "      <td>2017-08-08</td>\n",
       "      <td>0</td>\n",
       "      <td>4OI80M9-YRSFwBvjDRwDTA</td>\n",
       "      <td>4</td>\n",
       "      <td>They have a vast amount of offerings and are s...</td>\n",
       "      <td>0</td>\n",
       "      <td>7WCWbSWAOxaAu2DoK76D1g</td>\n",
       "      <td>False</td>\n",
       "    </tr>\n",
       "    <tr>\n",
       "      <th>19</th>\n",
       "      <td>160308</td>\n",
       "      <td>RESDUcs7fIiihp38-d6_6g</td>\n",
       "      <td>Bacchanal Buffet</td>\n",
       "      <td>Sandwiches, Buffets, Breakfast &amp; Brunch, Food,...</td>\n",
       "      <td>4.0</td>\n",
       "      <td>0</td>\n",
       "      <td>2016-11-26</td>\n",
       "      <td>0</td>\n",
       "      <td>lRTcHO-AlgbsAhmyUyQDBQ</td>\n",
       "      <td>5</td>\n",
       "      <td>What an incredible buffet!  Although we though...</td>\n",
       "      <td>0</td>\n",
       "      <td>9GsG5tznbCcs7s0FkFNKsw</td>\n",
       "      <td>True</td>\n",
       "    </tr>\n",
       "    <tr>\n",
       "      <th>20</th>\n",
       "      <td>160309</td>\n",
       "      <td>RESDUcs7fIiihp38-d6_6g</td>\n",
       "      <td>Bacchanal Buffet</td>\n",
       "      <td>Sandwiches, Buffets, Breakfast &amp; Brunch, Food,...</td>\n",
       "      <td>4.0</td>\n",
       "      <td>0</td>\n",
       "      <td>2018-01-05</td>\n",
       "      <td>0</td>\n",
       "      <td>NgMaDXWgIY9vVdzFfPWjDg</td>\n",
       "      <td>1</td>\n",
       "      <td>This review is only for the Christmas Feast. T...</td>\n",
       "      <td>2</td>\n",
       "      <td>9RRbE-vBxAEVUEUk7rYBvg</td>\n",
       "      <td>False</td>\n",
       "    </tr>\n",
       "    <tr>\n",
       "      <th>21</th>\n",
       "      <td>160310</td>\n",
       "      <td>RESDUcs7fIiihp38-d6_6g</td>\n",
       "      <td>Bacchanal Buffet</td>\n",
       "      <td>Sandwiches, Buffets, Breakfast &amp; Brunch, Food,...</td>\n",
       "      <td>4.0</td>\n",
       "      <td>0</td>\n",
       "      <td>2017-01-18</td>\n",
       "      <td>0</td>\n",
       "      <td>aJQujnov4kkkqEN_sTkVbA</td>\n",
       "      <td>2</td>\n",
       "      <td>Brunch is not worth the price. There's a varie...</td>\n",
       "      <td>0</td>\n",
       "      <td>NehrtwXQHdMG60dNtiirsQ</td>\n",
       "      <td>False</td>\n",
       "    </tr>\n",
       "    <tr>\n",
       "      <th>22</th>\n",
       "      <td>160311</td>\n",
       "      <td>RESDUcs7fIiihp38-d6_6g</td>\n",
       "      <td>Bacchanal Buffet</td>\n",
       "      <td>Sandwiches, Buffets, Breakfast &amp; Brunch, Food,...</td>\n",
       "      <td>4.0</td>\n",
       "      <td>0</td>\n",
       "      <td>2017-06-17</td>\n",
       "      <td>0</td>\n",
       "      <td>C5qArpcpZTgYV3rh9zAYjA</td>\n",
       "      <td>2</td>\n",
       "      <td>When it first opened, this place was beyond am...</td>\n",
       "      <td>1</td>\n",
       "      <td>vrYY6ByqCS-2We-raSqjXQ</td>\n",
       "      <td>False</td>\n",
       "    </tr>\n",
       "    <tr>\n",
       "      <th>23</th>\n",
       "      <td>160312</td>\n",
       "      <td>RESDUcs7fIiihp38-d6_6g</td>\n",
       "      <td>Bacchanal Buffet</td>\n",
       "      <td>Sandwiches, Buffets, Breakfast &amp; Brunch, Food,...</td>\n",
       "      <td>4.0</td>\n",
       "      <td>0</td>\n",
       "      <td>2016-11-01</td>\n",
       "      <td>0</td>\n",
       "      <td>Z6wjkUBu5cTgl9VS7As77w</td>\n",
       "      <td>4</td>\n",
       "      <td>We have dined at this buffet several times but...</td>\n",
       "      <td>0</td>\n",
       "      <td>meubJODY6950PeJqWnMDFg</td>\n",
       "      <td>False</td>\n",
       "    </tr>\n",
       "    <tr>\n",
       "      <th>24</th>\n",
       "      <td>160313</td>\n",
       "      <td>RESDUcs7fIiihp38-d6_6g</td>\n",
       "      <td>Bacchanal Buffet</td>\n",
       "      <td>Sandwiches, Buffets, Breakfast &amp; Brunch, Food,...</td>\n",
       "      <td>4.0</td>\n",
       "      <td>0</td>\n",
       "      <td>2017-10-24</td>\n",
       "      <td>0</td>\n",
       "      <td>jQchdj7yCdaJuSm7YdgIvQ</td>\n",
       "      <td>5</td>\n",
       "      <td>Best buffet I've ever been to. The quality of ...</td>\n",
       "      <td>0</td>\n",
       "      <td>Aakk0sc4oG66AcodpbppJg</td>\n",
       "      <td>True</td>\n",
       "    </tr>\n",
       "    <tr>\n",
       "      <th>25</th>\n",
       "      <td>160314</td>\n",
       "      <td>RESDUcs7fIiihp38-d6_6g</td>\n",
       "      <td>Bacchanal Buffet</td>\n",
       "      <td>Sandwiches, Buffets, Breakfast &amp; Brunch, Food,...</td>\n",
       "      <td>4.0</td>\n",
       "      <td>0</td>\n",
       "      <td>2017-08-08</td>\n",
       "      <td>0</td>\n",
       "      <td>h0Tq6OITumeTDMP8p_sEmg</td>\n",
       "      <td>5</td>\n",
       "      <td>Amazing food selection and our server, Carlos ...</td>\n",
       "      <td>0</td>\n",
       "      <td>PoriwPcu7mPdeUgyXukLAQ</td>\n",
       "      <td>True</td>\n",
       "    </tr>\n",
       "    <tr>\n",
       "      <th>26</th>\n",
       "      <td>160315</td>\n",
       "      <td>RESDUcs7fIiihp38-d6_6g</td>\n",
       "      <td>Bacchanal Buffet</td>\n",
       "      <td>Sandwiches, Buffets, Breakfast &amp; Brunch, Food,...</td>\n",
       "      <td>4.0</td>\n",
       "      <td>0</td>\n",
       "      <td>2017-01-03</td>\n",
       "      <td>0</td>\n",
       "      <td>fQwJulRkiN3mGnjfF9Vhlw</td>\n",
       "      <td>3</td>\n",
       "      <td>I was so excited to try this buffet, as I was ...</td>\n",
       "      <td>0</td>\n",
       "      <td>Roo5xp66Ky7Su7I8cy03ng</td>\n",
       "      <td>False</td>\n",
       "    </tr>\n",
       "    <tr>\n",
       "      <th>27</th>\n",
       "      <td>160316</td>\n",
       "      <td>RESDUcs7fIiihp38-d6_6g</td>\n",
       "      <td>Bacchanal Buffet</td>\n",
       "      <td>Sandwiches, Buffets, Breakfast &amp; Brunch, Food,...</td>\n",
       "      <td>4.0</td>\n",
       "      <td>0</td>\n",
       "      <td>2017-04-24</td>\n",
       "      <td>0</td>\n",
       "      <td>R8LJHarVssSyHkJXK9H7Jg</td>\n",
       "      <td>1</td>\n",
       "      <td>The food is excellent here but the service is ...</td>\n",
       "      <td>0</td>\n",
       "      <td>eKhIZuHdxKEmFkIZ-esCSg</td>\n",
       "      <td>False</td>\n",
       "    </tr>\n",
       "    <tr>\n",
       "      <th>28</th>\n",
       "      <td>160317</td>\n",
       "      <td>RESDUcs7fIiihp38-d6_6g</td>\n",
       "      <td>Bacchanal Buffet</td>\n",
       "      <td>Sandwiches, Buffets, Breakfast &amp; Brunch, Food,...</td>\n",
       "      <td>4.0</td>\n",
       "      <td>0</td>\n",
       "      <td>2017-07-01</td>\n",
       "      <td>0</td>\n",
       "      <td>U0qiv80DANbYJTf9AvzhLA</td>\n",
       "      <td>4</td>\n",
       "      <td>Came in on Friday and was very exited,because ...</td>\n",
       "      <td>0</td>\n",
       "      <td>xAov4bfHFiAxHafYKL0o9A</td>\n",
       "      <td>False</td>\n",
       "    </tr>\n",
       "    <tr>\n",
       "      <th>29</th>\n",
       "      <td>160318</td>\n",
       "      <td>RESDUcs7fIiihp38-d6_6g</td>\n",
       "      <td>Bacchanal Buffet</td>\n",
       "      <td>Sandwiches, Buffets, Breakfast &amp; Brunch, Food,...</td>\n",
       "      <td>4.0</td>\n",
       "      <td>0</td>\n",
       "      <td>2017-12-25</td>\n",
       "      <td>0</td>\n",
       "      <td>LzfWrvqW3toNSqAyVC2hSQ</td>\n",
       "      <td>1</td>\n",
       "      <td>The service is terrible here. We were told tha...</td>\n",
       "      <td>0</td>\n",
       "      <td>MfB7V8uw5hi4rWg4XhA2Cw</td>\n",
       "      <td>False</td>\n",
       "    </tr>\n",
       "    <tr>\n",
       "      <th>...</th>\n",
       "      <td>...</td>\n",
       "      <td>...</td>\n",
       "      <td>...</td>\n",
       "      <td>...</td>\n",
       "      <td>...</td>\n",
       "      <td>...</td>\n",
       "      <td>...</td>\n",
       "      <td>...</td>\n",
       "      <td>...</td>\n",
       "      <td>...</td>\n",
       "      <td>...</td>\n",
       "      <td>...</td>\n",
       "      <td>...</td>\n",
       "      <td>...</td>\n",
       "    </tr>\n",
       "    <tr>\n",
       "      <th>2619</th>\n",
       "      <td>162908</td>\n",
       "      <td>RESDUcs7fIiihp38-d6_6g</td>\n",
       "      <td>Bacchanal Buffet</td>\n",
       "      <td>Sandwiches, Buffets, Breakfast &amp; Brunch, Food,...</td>\n",
       "      <td>4.0</td>\n",
       "      <td>0</td>\n",
       "      <td>2017-10-28</td>\n",
       "      <td>0</td>\n",
       "      <td>kwrxrlmSCG9SyCH5uqK5KA</td>\n",
       "      <td>2</td>\n",
       "      <td>Quality and personnel managed poorly .\\nLots o...</td>\n",
       "      <td>0</td>\n",
       "      <td>BgTEmV6LRcbtb-TK9JI6vA</td>\n",
       "      <td>False</td>\n",
       "    </tr>\n",
       "    <tr>\n",
       "      <th>2620</th>\n",
       "      <td>162909</td>\n",
       "      <td>RESDUcs7fIiihp38-d6_6g</td>\n",
       "      <td>Bacchanal Buffet</td>\n",
       "      <td>Sandwiches, Buffets, Breakfast &amp; Brunch, Food,...</td>\n",
       "      <td>4.0</td>\n",
       "      <td>0</td>\n",
       "      <td>2018-03-28</td>\n",
       "      <td>0</td>\n",
       "      <td>iC06wi1-t1gJn-uxFpY06Q</td>\n",
       "      <td>3</td>\n",
       "      <td>The place look nice, service was good ( when u...</td>\n",
       "      <td>0</td>\n",
       "      <td>KiDb4E4_Lphs5ipNBTJ8Jw</td>\n",
       "      <td>False</td>\n",
       "    </tr>\n",
       "    <tr>\n",
       "      <th>2621</th>\n",
       "      <td>162910</td>\n",
       "      <td>RESDUcs7fIiihp38-d6_6g</td>\n",
       "      <td>Bacchanal Buffet</td>\n",
       "      <td>Sandwiches, Buffets, Breakfast &amp; Brunch, Food,...</td>\n",
       "      <td>4.0</td>\n",
       "      <td>0</td>\n",
       "      <td>2017-11-10</td>\n",
       "      <td>0</td>\n",
       "      <td>0fHd34DdHhAkulojnGgB_Q</td>\n",
       "      <td>3</td>\n",
       "      <td>It's ok the quality has gone down since they o...</td>\n",
       "      <td>0</td>\n",
       "      <td>fuMLnjEjt3_GM5rc0XJY2Q</td>\n",
       "      <td>False</td>\n",
       "    </tr>\n",
       "    <tr>\n",
       "      <th>2622</th>\n",
       "      <td>162911</td>\n",
       "      <td>RESDUcs7fIiihp38-d6_6g</td>\n",
       "      <td>Bacchanal Buffet</td>\n",
       "      <td>Sandwiches, Buffets, Breakfast &amp; Brunch, Food,...</td>\n",
       "      <td>4.0</td>\n",
       "      <td>0</td>\n",
       "      <td>2018-01-15</td>\n",
       "      <td>0</td>\n",
       "      <td>HRUkzXB3VO2NP_zoabKHKg</td>\n",
       "      <td>5</td>\n",
       "      <td>It was really good. The key is to get there at...</td>\n",
       "      <td>1</td>\n",
       "      <td>lsexbkjji_HnfuwyQemxAw</td>\n",
       "      <td>True</td>\n",
       "    </tr>\n",
       "    <tr>\n",
       "      <th>2623</th>\n",
       "      <td>162912</td>\n",
       "      <td>RESDUcs7fIiihp38-d6_6g</td>\n",
       "      <td>Bacchanal Buffet</td>\n",
       "      <td>Sandwiches, Buffets, Breakfast &amp; Brunch, Food,...</td>\n",
       "      <td>4.0</td>\n",
       "      <td>0</td>\n",
       "      <td>2017-05-07</td>\n",
       "      <td>0</td>\n",
       "      <td>L5c0evRZ0b3Pvatt1PoR6g</td>\n",
       "      <td>4</td>\n",
       "      <td>One of the best buffets I've been too!  Amazin...</td>\n",
       "      <td>0</td>\n",
       "      <td>DJhNKewgtH49pFBTDTMWDw</td>\n",
       "      <td>False</td>\n",
       "    </tr>\n",
       "    <tr>\n",
       "      <th>2624</th>\n",
       "      <td>162913</td>\n",
       "      <td>RESDUcs7fIiihp38-d6_6g</td>\n",
       "      <td>Bacchanal Buffet</td>\n",
       "      <td>Sandwiches, Buffets, Breakfast &amp; Brunch, Food,...</td>\n",
       "      <td>4.0</td>\n",
       "      <td>0</td>\n",
       "      <td>2017-05-22</td>\n",
       "      <td>0</td>\n",
       "      <td>s5wIrv-Be196SyvpbN950g</td>\n",
       "      <td>5</td>\n",
       "      <td>By far the best buffet I have ever been to and...</td>\n",
       "      <td>2</td>\n",
       "      <td>kF_0e6TCSYT2iNIW_k2s6g</td>\n",
       "      <td>True</td>\n",
       "    </tr>\n",
       "    <tr>\n",
       "      <th>2625</th>\n",
       "      <td>162914</td>\n",
       "      <td>RESDUcs7fIiihp38-d6_6g</td>\n",
       "      <td>Bacchanal Buffet</td>\n",
       "      <td>Sandwiches, Buffets, Breakfast &amp; Brunch, Food,...</td>\n",
       "      <td>4.0</td>\n",
       "      <td>0</td>\n",
       "      <td>2018-01-08</td>\n",
       "      <td>0</td>\n",
       "      <td>F8p2D138_Tt62i7N4GRJrQ</td>\n",
       "      <td>5</td>\n",
       "      <td>This was amazing. We got the Groupon which sav...</td>\n",
       "      <td>0</td>\n",
       "      <td>QeF5jw2XaZEXlvT-nhrhAg</td>\n",
       "      <td>True</td>\n",
       "    </tr>\n",
       "    <tr>\n",
       "      <th>2626</th>\n",
       "      <td>162915</td>\n",
       "      <td>RESDUcs7fIiihp38-d6_6g</td>\n",
       "      <td>Bacchanal Buffet</td>\n",
       "      <td>Sandwiches, Buffets, Breakfast &amp; Brunch, Food,...</td>\n",
       "      <td>4.0</td>\n",
       "      <td>0</td>\n",
       "      <td>2016-10-23</td>\n",
       "      <td>0</td>\n",
       "      <td>LDlE3dQGc0Gq14TlGF41zQ</td>\n",
       "      <td>4</td>\n",
       "      <td>I been here many many times. It's either a hit...</td>\n",
       "      <td>0</td>\n",
       "      <td>3o5RxAwstVARRW-SW66T6g</td>\n",
       "      <td>False</td>\n",
       "    </tr>\n",
       "    <tr>\n",
       "      <th>2627</th>\n",
       "      <td>162916</td>\n",
       "      <td>RESDUcs7fIiihp38-d6_6g</td>\n",
       "      <td>Bacchanal Buffet</td>\n",
       "      <td>Sandwiches, Buffets, Breakfast &amp; Brunch, Food,...</td>\n",
       "      <td>4.0</td>\n",
       "      <td>0</td>\n",
       "      <td>2017-05-28</td>\n",
       "      <td>0</td>\n",
       "      <td>MzHTzPS2FrFcCHSqrttdJQ</td>\n",
       "      <td>1</td>\n",
       "      <td>The line wait is entirely too long. The staff ...</td>\n",
       "      <td>1</td>\n",
       "      <td>2VAgqn-OM0a6aP4ICf6_VQ</td>\n",
       "      <td>False</td>\n",
       "    </tr>\n",
       "    <tr>\n",
       "      <th>2628</th>\n",
       "      <td>162917</td>\n",
       "      <td>RESDUcs7fIiihp38-d6_6g</td>\n",
       "      <td>Bacchanal Buffet</td>\n",
       "      <td>Sandwiches, Buffets, Breakfast &amp; Brunch, Food,...</td>\n",
       "      <td>4.0</td>\n",
       "      <td>0</td>\n",
       "      <td>2017-03-31</td>\n",
       "      <td>1</td>\n",
       "      <td>00JqUnR8_bzciowjWHjOWA</td>\n",
       "      <td>2</td>\n",
       "      <td>I cannot understand for the life of me why the...</td>\n",
       "      <td>0</td>\n",
       "      <td>_xtAMzARgplBZy8YRzVECw</td>\n",
       "      <td>False</td>\n",
       "    </tr>\n",
       "    <tr>\n",
       "      <th>2629</th>\n",
       "      <td>162918</td>\n",
       "      <td>RESDUcs7fIiihp38-d6_6g</td>\n",
       "      <td>Bacchanal Buffet</td>\n",
       "      <td>Sandwiches, Buffets, Breakfast &amp; Brunch, Food,...</td>\n",
       "      <td>4.0</td>\n",
       "      <td>1</td>\n",
       "      <td>2017-05-24</td>\n",
       "      <td>0</td>\n",
       "      <td>n4R2DPwzFrlFwavjZw3f0Q</td>\n",
       "      <td>3</td>\n",
       "      <td>I've been here twice. Wait time's over an hour...</td>\n",
       "      <td>1</td>\n",
       "      <td>qUk-Qa1JYnuK4VmmEbSYsA</td>\n",
       "      <td>False</td>\n",
       "    </tr>\n",
       "    <tr>\n",
       "      <th>2630</th>\n",
       "      <td>162919</td>\n",
       "      <td>RESDUcs7fIiihp38-d6_6g</td>\n",
       "      <td>Bacchanal Buffet</td>\n",
       "      <td>Sandwiches, Buffets, Breakfast &amp; Brunch, Food,...</td>\n",
       "      <td>4.0</td>\n",
       "      <td>0</td>\n",
       "      <td>2017-04-03</td>\n",
       "      <td>0</td>\n",
       "      <td>KcgPedakbj3aLN_es21sNQ</td>\n",
       "      <td>3</td>\n",
       "      <td>I'd probably actually go 3.5 stars, but am cho...</td>\n",
       "      <td>0</td>\n",
       "      <td>hq43LbaQgUBwNRIDI5Uijw</td>\n",
       "      <td>False</td>\n",
       "    </tr>\n",
       "    <tr>\n",
       "      <th>2631</th>\n",
       "      <td>162920</td>\n",
       "      <td>RESDUcs7fIiihp38-d6_6g</td>\n",
       "      <td>Bacchanal Buffet</td>\n",
       "      <td>Sandwiches, Buffets, Breakfast &amp; Brunch, Food,...</td>\n",
       "      <td>4.0</td>\n",
       "      <td>2</td>\n",
       "      <td>2017-07-13</td>\n",
       "      <td>0</td>\n",
       "      <td>kdHWu6Ohaya6apEeyaCeSg</td>\n",
       "      <td>2</td>\n",
       "      <td>Mediocre but totally overcooked meat. The only...</td>\n",
       "      <td>2</td>\n",
       "      <td>8rDS2iYOjMHfZ16xX7ekCA</td>\n",
       "      <td>False</td>\n",
       "    </tr>\n",
       "    <tr>\n",
       "      <th>2632</th>\n",
       "      <td>162921</td>\n",
       "      <td>RESDUcs7fIiihp38-d6_6g</td>\n",
       "      <td>Bacchanal Buffet</td>\n",
       "      <td>Sandwiches, Buffets, Breakfast &amp; Brunch, Food,...</td>\n",
       "      <td>4.0</td>\n",
       "      <td>3</td>\n",
       "      <td>2016-09-22</td>\n",
       "      <td>3</td>\n",
       "      <td>GT8lmeE8xLUKosgO24FZKw</td>\n",
       "      <td>4</td>\n",
       "      <td>Wow, their selection is HUGE. There is so much...</td>\n",
       "      <td>4</td>\n",
       "      <td>P15deK_pnTZ807ytncdllA</td>\n",
       "      <td>False</td>\n",
       "    </tr>\n",
       "    <tr>\n",
       "      <th>2633</th>\n",
       "      <td>162922</td>\n",
       "      <td>RESDUcs7fIiihp38-d6_6g</td>\n",
       "      <td>Bacchanal Buffet</td>\n",
       "      <td>Sandwiches, Buffets, Breakfast &amp; Brunch, Food,...</td>\n",
       "      <td>4.0</td>\n",
       "      <td>0</td>\n",
       "      <td>2018-05-06</td>\n",
       "      <td>0</td>\n",
       "      <td>z6xo8s1_AbTXQM45Hj0chQ</td>\n",
       "      <td>1</td>\n",
       "      <td>We've tried the Bacchanal Buffet and the food ...</td>\n",
       "      <td>2</td>\n",
       "      <td>hwIWle9HcFSBPmeCxHGs0g</td>\n",
       "      <td>False</td>\n",
       "    </tr>\n",
       "    <tr>\n",
       "      <th>2634</th>\n",
       "      <td>162923</td>\n",
       "      <td>RESDUcs7fIiihp38-d6_6g</td>\n",
       "      <td>Bacchanal Buffet</td>\n",
       "      <td>Sandwiches, Buffets, Breakfast &amp; Brunch, Food,...</td>\n",
       "      <td>4.0</td>\n",
       "      <td>5</td>\n",
       "      <td>2016-09-10</td>\n",
       "      <td>5</td>\n",
       "      <td>wscwtNndyj3fyJKXCs7McA</td>\n",
       "      <td>5</td>\n",
       "      <td>Where do I start? We flew in from California a...</td>\n",
       "      <td>5</td>\n",
       "      <td>9Dd1fLx93JRGypYC_3i9Zw</td>\n",
       "      <td>True</td>\n",
       "    </tr>\n",
       "    <tr>\n",
       "      <th>2635</th>\n",
       "      <td>162924</td>\n",
       "      <td>RESDUcs7fIiihp38-d6_6g</td>\n",
       "      <td>Bacchanal Buffet</td>\n",
       "      <td>Sandwiches, Buffets, Breakfast &amp; Brunch, Food,...</td>\n",
       "      <td>4.0</td>\n",
       "      <td>0</td>\n",
       "      <td>2017-12-28</td>\n",
       "      <td>0</td>\n",
       "      <td>yNLpIroAN9Pf7NWip3zqEQ</td>\n",
       "      <td>2</td>\n",
       "      <td>Y'all such a disappointment for a luxury buffe...</td>\n",
       "      <td>0</td>\n",
       "      <td>gF8E2gC8JKXdF7tD8uYabw</td>\n",
       "      <td>False</td>\n",
       "    </tr>\n",
       "    <tr>\n",
       "      <th>2636</th>\n",
       "      <td>162925</td>\n",
       "      <td>RESDUcs7fIiihp38-d6_6g</td>\n",
       "      <td>Bacchanal Buffet</td>\n",
       "      <td>Sandwiches, Buffets, Breakfast &amp; Brunch, Food,...</td>\n",
       "      <td>4.0</td>\n",
       "      <td>0</td>\n",
       "      <td>2017-11-22</td>\n",
       "      <td>0</td>\n",
       "      <td>CS0fs-hsLe-ReADrDBaGYQ</td>\n",
       "      <td>5</td>\n",
       "      <td>Great buffet but the line sucks.    The food i...</td>\n",
       "      <td>0</td>\n",
       "      <td>oUCaxUBcruhxU4XhCF523w</td>\n",
       "      <td>True</td>\n",
       "    </tr>\n",
       "    <tr>\n",
       "      <th>2637</th>\n",
       "      <td>162926</td>\n",
       "      <td>RESDUcs7fIiihp38-d6_6g</td>\n",
       "      <td>Bacchanal Buffet</td>\n",
       "      <td>Sandwiches, Buffets, Breakfast &amp; Brunch, Food,...</td>\n",
       "      <td>4.0</td>\n",
       "      <td>1</td>\n",
       "      <td>2017-11-14</td>\n",
       "      <td>0</td>\n",
       "      <td>6M7aPyKr0UhJXGcLOQ__zQ</td>\n",
       "      <td>5</td>\n",
       "      <td>This is one of the best buffets in Vegas!  Mak...</td>\n",
       "      <td>0</td>\n",
       "      <td>3haQPlxXOeRkzIeQeFjGaQ</td>\n",
       "      <td>True</td>\n",
       "    </tr>\n",
       "    <tr>\n",
       "      <th>2638</th>\n",
       "      <td>162927</td>\n",
       "      <td>RESDUcs7fIiihp38-d6_6g</td>\n",
       "      <td>Bacchanal Buffet</td>\n",
       "      <td>Sandwiches, Buffets, Breakfast &amp; Brunch, Food,...</td>\n",
       "      <td>4.0</td>\n",
       "      <td>0</td>\n",
       "      <td>2018-02-06</td>\n",
       "      <td>0</td>\n",
       "      <td>PVri6s6OXBS26SjfAAzsrQ</td>\n",
       "      <td>5</td>\n",
       "      <td>I loveeeeeee Bacchanal Buffet! Even when I had...</td>\n",
       "      <td>0</td>\n",
       "      <td>FMMG10-FrTutjs00CSvgYg</td>\n",
       "      <td>True</td>\n",
       "    </tr>\n",
       "    <tr>\n",
       "      <th>2639</th>\n",
       "      <td>162928</td>\n",
       "      <td>RESDUcs7fIiihp38-d6_6g</td>\n",
       "      <td>Bacchanal Buffet</td>\n",
       "      <td>Sandwiches, Buffets, Breakfast &amp; Brunch, Food,...</td>\n",
       "      <td>4.0</td>\n",
       "      <td>0</td>\n",
       "      <td>2018-01-19</td>\n",
       "      <td>0</td>\n",
       "      <td>FEKjP5QGt5ZP0Ay4YZ6DhA</td>\n",
       "      <td>3</td>\n",
       "      <td>This buffet was pretty disappointing for me. W...</td>\n",
       "      <td>1</td>\n",
       "      <td>ZRFzuTwpYlrqNBK1rbjDAA</td>\n",
       "      <td>False</td>\n",
       "    </tr>\n",
       "    <tr>\n",
       "      <th>2640</th>\n",
       "      <td>162929</td>\n",
       "      <td>RESDUcs7fIiihp38-d6_6g</td>\n",
       "      <td>Bacchanal Buffet</td>\n",
       "      <td>Sandwiches, Buffets, Breakfast &amp; Brunch, Food,...</td>\n",
       "      <td>4.0</td>\n",
       "      <td>0</td>\n",
       "      <td>2016-11-22</td>\n",
       "      <td>0</td>\n",
       "      <td>ixBsFHGweQuG1JW94owCAw</td>\n",
       "      <td>5</td>\n",
       "      <td>This is HANDS DOWN the best buffet in Vegas, b...</td>\n",
       "      <td>0</td>\n",
       "      <td>vbNrFaaoCXzlfVe1bGwkog</td>\n",
       "      <td>True</td>\n",
       "    </tr>\n",
       "    <tr>\n",
       "      <th>2641</th>\n",
       "      <td>162930</td>\n",
       "      <td>RESDUcs7fIiihp38-d6_6g</td>\n",
       "      <td>Bacchanal Buffet</td>\n",
       "      <td>Sandwiches, Buffets, Breakfast &amp; Brunch, Food,...</td>\n",
       "      <td>4.0</td>\n",
       "      <td>0</td>\n",
       "      <td>2017-03-08</td>\n",
       "      <td>0</td>\n",
       "      <td>56jjEV7mXXuD8KM4A4X4AQ</td>\n",
       "      <td>2</td>\n",
       "      <td>I had very high expectations. Went on a Monday...</td>\n",
       "      <td>0</td>\n",
       "      <td>hG2pEwKK6qZgC3xatACuqw</td>\n",
       "      <td>False</td>\n",
       "    </tr>\n",
       "    <tr>\n",
       "      <th>2642</th>\n",
       "      <td>162931</td>\n",
       "      <td>RESDUcs7fIiihp38-d6_6g</td>\n",
       "      <td>Bacchanal Buffet</td>\n",
       "      <td>Sandwiches, Buffets, Breakfast &amp; Brunch, Food,...</td>\n",
       "      <td>4.0</td>\n",
       "      <td>0</td>\n",
       "      <td>2016-11-14</td>\n",
       "      <td>0</td>\n",
       "      <td>yCw1S65Wwus5FQnxksXUYg</td>\n",
       "      <td>3</td>\n",
       "      <td>Just whatever. Yes there are tons of options b...</td>\n",
       "      <td>1</td>\n",
       "      <td>ybgMEBq2So3FFfiFF1rh-g</td>\n",
       "      <td>False</td>\n",
       "    </tr>\n",
       "    <tr>\n",
       "      <th>2643</th>\n",
       "      <td>162932</td>\n",
       "      <td>RESDUcs7fIiihp38-d6_6g</td>\n",
       "      <td>Bacchanal Buffet</td>\n",
       "      <td>Sandwiches, Buffets, Breakfast &amp; Brunch, Food,...</td>\n",
       "      <td>4.0</td>\n",
       "      <td>0</td>\n",
       "      <td>2018-04-15</td>\n",
       "      <td>0</td>\n",
       "      <td>4wPhdSSh1q0iEPxdvaNtVQ</td>\n",
       "      <td>1</td>\n",
       "      <td>I would give 2 or 3 stars just for the taste, ...</td>\n",
       "      <td>2</td>\n",
       "      <td>TSQQ4x91kMsEqFHgyUnWbw</td>\n",
       "      <td>False</td>\n",
       "    </tr>\n",
       "    <tr>\n",
       "      <th>2644</th>\n",
       "      <td>162933</td>\n",
       "      <td>RESDUcs7fIiihp38-d6_6g</td>\n",
       "      <td>Bacchanal Buffet</td>\n",
       "      <td>Sandwiches, Buffets, Breakfast &amp; Brunch, Food,...</td>\n",
       "      <td>4.0</td>\n",
       "      <td>0</td>\n",
       "      <td>2017-07-27</td>\n",
       "      <td>0</td>\n",
       "      <td>zcgkWtbyPTWHxfNgse9NXQ</td>\n",
       "      <td>4</td>\n",
       "      <td>update to previous review--the manager reached...</td>\n",
       "      <td>0</td>\n",
       "      <td>uYezJh0z1FcOK8BeTb-MNQ</td>\n",
       "      <td>False</td>\n",
       "    </tr>\n",
       "    <tr>\n",
       "      <th>2645</th>\n",
       "      <td>162934</td>\n",
       "      <td>RESDUcs7fIiihp38-d6_6g</td>\n",
       "      <td>Bacchanal Buffet</td>\n",
       "      <td>Sandwiches, Buffets, Breakfast &amp; Brunch, Food,...</td>\n",
       "      <td>4.0</td>\n",
       "      <td>0</td>\n",
       "      <td>2017-05-29</td>\n",
       "      <td>0</td>\n",
       "      <td>LOnYiEt4wpEXytTpuYvKLg</td>\n",
       "      <td>5</td>\n",
       "      <td>Honestly one of the best buffets I've ever gon...</td>\n",
       "      <td>1</td>\n",
       "      <td>J3ykuVkcYsttcksT_fIbpw</td>\n",
       "      <td>True</td>\n",
       "    </tr>\n",
       "    <tr>\n",
       "      <th>2646</th>\n",
       "      <td>162935</td>\n",
       "      <td>RESDUcs7fIiihp38-d6_6g</td>\n",
       "      <td>Bacchanal Buffet</td>\n",
       "      <td>Sandwiches, Buffets, Breakfast &amp; Brunch, Food,...</td>\n",
       "      <td>4.0</td>\n",
       "      <td>0</td>\n",
       "      <td>2017-07-21</td>\n",
       "      <td>0</td>\n",
       "      <td>ExQVpasAvLxJ71aqOrle9A</td>\n",
       "      <td>4</td>\n",
       "      <td>The seafood selection is amazing!! Steaming cr...</td>\n",
       "      <td>0</td>\n",
       "      <td>B82EQctgw789hsmegYCzRQ</td>\n",
       "      <td>False</td>\n",
       "    </tr>\n",
       "    <tr>\n",
       "      <th>2647</th>\n",
       "      <td>162936</td>\n",
       "      <td>RESDUcs7fIiihp38-d6_6g</td>\n",
       "      <td>Bacchanal Buffet</td>\n",
       "      <td>Sandwiches, Buffets, Breakfast &amp; Brunch, Food,...</td>\n",
       "      <td>4.0</td>\n",
       "      <td>0</td>\n",
       "      <td>2017-08-24</td>\n",
       "      <td>0</td>\n",
       "      <td>M0yK8wDRU_IkgKv2JMnz1w</td>\n",
       "      <td>1</td>\n",
       "      <td>Terrible hostess and management! They don't kn...</td>\n",
       "      <td>0</td>\n",
       "      <td>cJQE_lyQygHPadn4h0C8Jw</td>\n",
       "      <td>False</td>\n",
       "    </tr>\n",
       "    <tr>\n",
       "      <th>2648</th>\n",
       "      <td>162937</td>\n",
       "      <td>RESDUcs7fIiihp38-d6_6g</td>\n",
       "      <td>Bacchanal Buffet</td>\n",
       "      <td>Sandwiches, Buffets, Breakfast &amp; Brunch, Food,...</td>\n",
       "      <td>4.0</td>\n",
       "      <td>1</td>\n",
       "      <td>2017-07-04</td>\n",
       "      <td>0</td>\n",
       "      <td>w-9UGiO02sXEHOtr0Z6eGw</td>\n",
       "      <td>5</td>\n",
       "      <td>Still my favorite buffet in Vegas. It's on the...</td>\n",
       "      <td>0</td>\n",
       "      <td>8zLtEdRSuCHU-qmnFgwF0w</td>\n",
       "      <td>True</td>\n",
       "    </tr>\n",
       "  </tbody>\n",
       "</table>\n",
       "<p>2649 rows × 14 columns</p>\n",
       "</div>"
      ],
      "text/plain": [
       "       index             business_id              name  \\\n",
       "0     160289  RESDUcs7fIiihp38-d6_6g  Bacchanal Buffet   \n",
       "1     160290  RESDUcs7fIiihp38-d6_6g  Bacchanal Buffet   \n",
       "2     160291  RESDUcs7fIiihp38-d6_6g  Bacchanal Buffet   \n",
       "3     160292  RESDUcs7fIiihp38-d6_6g  Bacchanal Buffet   \n",
       "4     160293  RESDUcs7fIiihp38-d6_6g  Bacchanal Buffet   \n",
       "5     160294  RESDUcs7fIiihp38-d6_6g  Bacchanal Buffet   \n",
       "6     160295  RESDUcs7fIiihp38-d6_6g  Bacchanal Buffet   \n",
       "7     160296  RESDUcs7fIiihp38-d6_6g  Bacchanal Buffet   \n",
       "8     160297  RESDUcs7fIiihp38-d6_6g  Bacchanal Buffet   \n",
       "9     160298  RESDUcs7fIiihp38-d6_6g  Bacchanal Buffet   \n",
       "10    160299  RESDUcs7fIiihp38-d6_6g  Bacchanal Buffet   \n",
       "11    160300  RESDUcs7fIiihp38-d6_6g  Bacchanal Buffet   \n",
       "12    160301  RESDUcs7fIiihp38-d6_6g  Bacchanal Buffet   \n",
       "13    160302  RESDUcs7fIiihp38-d6_6g  Bacchanal Buffet   \n",
       "14    160303  RESDUcs7fIiihp38-d6_6g  Bacchanal Buffet   \n",
       "15    160304  RESDUcs7fIiihp38-d6_6g  Bacchanal Buffet   \n",
       "16    160305  RESDUcs7fIiihp38-d6_6g  Bacchanal Buffet   \n",
       "17    160306  RESDUcs7fIiihp38-d6_6g  Bacchanal Buffet   \n",
       "18    160307  RESDUcs7fIiihp38-d6_6g  Bacchanal Buffet   \n",
       "19    160308  RESDUcs7fIiihp38-d6_6g  Bacchanal Buffet   \n",
       "20    160309  RESDUcs7fIiihp38-d6_6g  Bacchanal Buffet   \n",
       "21    160310  RESDUcs7fIiihp38-d6_6g  Bacchanal Buffet   \n",
       "22    160311  RESDUcs7fIiihp38-d6_6g  Bacchanal Buffet   \n",
       "23    160312  RESDUcs7fIiihp38-d6_6g  Bacchanal Buffet   \n",
       "24    160313  RESDUcs7fIiihp38-d6_6g  Bacchanal Buffet   \n",
       "25    160314  RESDUcs7fIiihp38-d6_6g  Bacchanal Buffet   \n",
       "26    160315  RESDUcs7fIiihp38-d6_6g  Bacchanal Buffet   \n",
       "27    160316  RESDUcs7fIiihp38-d6_6g  Bacchanal Buffet   \n",
       "28    160317  RESDUcs7fIiihp38-d6_6g  Bacchanal Buffet   \n",
       "29    160318  RESDUcs7fIiihp38-d6_6g  Bacchanal Buffet   \n",
       "...      ...                     ...               ...   \n",
       "2619  162908  RESDUcs7fIiihp38-d6_6g  Bacchanal Buffet   \n",
       "2620  162909  RESDUcs7fIiihp38-d6_6g  Bacchanal Buffet   \n",
       "2621  162910  RESDUcs7fIiihp38-d6_6g  Bacchanal Buffet   \n",
       "2622  162911  RESDUcs7fIiihp38-d6_6g  Bacchanal Buffet   \n",
       "2623  162912  RESDUcs7fIiihp38-d6_6g  Bacchanal Buffet   \n",
       "2624  162913  RESDUcs7fIiihp38-d6_6g  Bacchanal Buffet   \n",
       "2625  162914  RESDUcs7fIiihp38-d6_6g  Bacchanal Buffet   \n",
       "2626  162915  RESDUcs7fIiihp38-d6_6g  Bacchanal Buffet   \n",
       "2627  162916  RESDUcs7fIiihp38-d6_6g  Bacchanal Buffet   \n",
       "2628  162917  RESDUcs7fIiihp38-d6_6g  Bacchanal Buffet   \n",
       "2629  162918  RESDUcs7fIiihp38-d6_6g  Bacchanal Buffet   \n",
       "2630  162919  RESDUcs7fIiihp38-d6_6g  Bacchanal Buffet   \n",
       "2631  162920  RESDUcs7fIiihp38-d6_6g  Bacchanal Buffet   \n",
       "2632  162921  RESDUcs7fIiihp38-d6_6g  Bacchanal Buffet   \n",
       "2633  162922  RESDUcs7fIiihp38-d6_6g  Bacchanal Buffet   \n",
       "2634  162923  RESDUcs7fIiihp38-d6_6g  Bacchanal Buffet   \n",
       "2635  162924  RESDUcs7fIiihp38-d6_6g  Bacchanal Buffet   \n",
       "2636  162925  RESDUcs7fIiihp38-d6_6g  Bacchanal Buffet   \n",
       "2637  162926  RESDUcs7fIiihp38-d6_6g  Bacchanal Buffet   \n",
       "2638  162927  RESDUcs7fIiihp38-d6_6g  Bacchanal Buffet   \n",
       "2639  162928  RESDUcs7fIiihp38-d6_6g  Bacchanal Buffet   \n",
       "2640  162929  RESDUcs7fIiihp38-d6_6g  Bacchanal Buffet   \n",
       "2641  162930  RESDUcs7fIiihp38-d6_6g  Bacchanal Buffet   \n",
       "2642  162931  RESDUcs7fIiihp38-d6_6g  Bacchanal Buffet   \n",
       "2643  162932  RESDUcs7fIiihp38-d6_6g  Bacchanal Buffet   \n",
       "2644  162933  RESDUcs7fIiihp38-d6_6g  Bacchanal Buffet   \n",
       "2645  162934  RESDUcs7fIiihp38-d6_6g  Bacchanal Buffet   \n",
       "2646  162935  RESDUcs7fIiihp38-d6_6g  Bacchanal Buffet   \n",
       "2647  162936  RESDUcs7fIiihp38-d6_6g  Bacchanal Buffet   \n",
       "2648  162937  RESDUcs7fIiihp38-d6_6g  Bacchanal Buffet   \n",
       "\n",
       "                                             categories  avg_stars  cool  \\\n",
       "0     Sandwiches, Buffets, Breakfast & Brunch, Food,...        4.0     0   \n",
       "1     Sandwiches, Buffets, Breakfast & Brunch, Food,...        4.0     0   \n",
       "2     Sandwiches, Buffets, Breakfast & Brunch, Food,...        4.0     0   \n",
       "3     Sandwiches, Buffets, Breakfast & Brunch, Food,...        4.0     0   \n",
       "4     Sandwiches, Buffets, Breakfast & Brunch, Food,...        4.0     0   \n",
       "5     Sandwiches, Buffets, Breakfast & Brunch, Food,...        4.0     0   \n",
       "6     Sandwiches, Buffets, Breakfast & Brunch, Food,...        4.0     1   \n",
       "7     Sandwiches, Buffets, Breakfast & Brunch, Food,...        4.0     0   \n",
       "8     Sandwiches, Buffets, Breakfast & Brunch, Food,...        4.0     0   \n",
       "9     Sandwiches, Buffets, Breakfast & Brunch, Food,...        4.0     0   \n",
       "10    Sandwiches, Buffets, Breakfast & Brunch, Food,...        4.0     0   \n",
       "11    Sandwiches, Buffets, Breakfast & Brunch, Food,...        4.0     0   \n",
       "12    Sandwiches, Buffets, Breakfast & Brunch, Food,...        4.0     0   \n",
       "13    Sandwiches, Buffets, Breakfast & Brunch, Food,...        4.0     0   \n",
       "14    Sandwiches, Buffets, Breakfast & Brunch, Food,...        4.0     0   \n",
       "15    Sandwiches, Buffets, Breakfast & Brunch, Food,...        4.0     0   \n",
       "16    Sandwiches, Buffets, Breakfast & Brunch, Food,...        4.0     0   \n",
       "17    Sandwiches, Buffets, Breakfast & Brunch, Food,...        4.0     0   \n",
       "18    Sandwiches, Buffets, Breakfast & Brunch, Food,...        4.0     0   \n",
       "19    Sandwiches, Buffets, Breakfast & Brunch, Food,...        4.0     0   \n",
       "20    Sandwiches, Buffets, Breakfast & Brunch, Food,...        4.0     0   \n",
       "21    Sandwiches, Buffets, Breakfast & Brunch, Food,...        4.0     0   \n",
       "22    Sandwiches, Buffets, Breakfast & Brunch, Food,...        4.0     0   \n",
       "23    Sandwiches, Buffets, Breakfast & Brunch, Food,...        4.0     0   \n",
       "24    Sandwiches, Buffets, Breakfast & Brunch, Food,...        4.0     0   \n",
       "25    Sandwiches, Buffets, Breakfast & Brunch, Food,...        4.0     0   \n",
       "26    Sandwiches, Buffets, Breakfast & Brunch, Food,...        4.0     0   \n",
       "27    Sandwiches, Buffets, Breakfast & Brunch, Food,...        4.0     0   \n",
       "28    Sandwiches, Buffets, Breakfast & Brunch, Food,...        4.0     0   \n",
       "29    Sandwiches, Buffets, Breakfast & Brunch, Food,...        4.0     0   \n",
       "...                                                 ...        ...   ...   \n",
       "2619  Sandwiches, Buffets, Breakfast & Brunch, Food,...        4.0     0   \n",
       "2620  Sandwiches, Buffets, Breakfast & Brunch, Food,...        4.0     0   \n",
       "2621  Sandwiches, Buffets, Breakfast & Brunch, Food,...        4.0     0   \n",
       "2622  Sandwiches, Buffets, Breakfast & Brunch, Food,...        4.0     0   \n",
       "2623  Sandwiches, Buffets, Breakfast & Brunch, Food,...        4.0     0   \n",
       "2624  Sandwiches, Buffets, Breakfast & Brunch, Food,...        4.0     0   \n",
       "2625  Sandwiches, Buffets, Breakfast & Brunch, Food,...        4.0     0   \n",
       "2626  Sandwiches, Buffets, Breakfast & Brunch, Food,...        4.0     0   \n",
       "2627  Sandwiches, Buffets, Breakfast & Brunch, Food,...        4.0     0   \n",
       "2628  Sandwiches, Buffets, Breakfast & Brunch, Food,...        4.0     0   \n",
       "2629  Sandwiches, Buffets, Breakfast & Brunch, Food,...        4.0     1   \n",
       "2630  Sandwiches, Buffets, Breakfast & Brunch, Food,...        4.0     0   \n",
       "2631  Sandwiches, Buffets, Breakfast & Brunch, Food,...        4.0     2   \n",
       "2632  Sandwiches, Buffets, Breakfast & Brunch, Food,...        4.0     3   \n",
       "2633  Sandwiches, Buffets, Breakfast & Brunch, Food,...        4.0     0   \n",
       "2634  Sandwiches, Buffets, Breakfast & Brunch, Food,...        4.0     5   \n",
       "2635  Sandwiches, Buffets, Breakfast & Brunch, Food,...        4.0     0   \n",
       "2636  Sandwiches, Buffets, Breakfast & Brunch, Food,...        4.0     0   \n",
       "2637  Sandwiches, Buffets, Breakfast & Brunch, Food,...        4.0     1   \n",
       "2638  Sandwiches, Buffets, Breakfast & Brunch, Food,...        4.0     0   \n",
       "2639  Sandwiches, Buffets, Breakfast & Brunch, Food,...        4.0     0   \n",
       "2640  Sandwiches, Buffets, Breakfast & Brunch, Food,...        4.0     0   \n",
       "2641  Sandwiches, Buffets, Breakfast & Brunch, Food,...        4.0     0   \n",
       "2642  Sandwiches, Buffets, Breakfast & Brunch, Food,...        4.0     0   \n",
       "2643  Sandwiches, Buffets, Breakfast & Brunch, Food,...        4.0     0   \n",
       "2644  Sandwiches, Buffets, Breakfast & Brunch, Food,...        4.0     0   \n",
       "2645  Sandwiches, Buffets, Breakfast & Brunch, Food,...        4.0     0   \n",
       "2646  Sandwiches, Buffets, Breakfast & Brunch, Food,...        4.0     0   \n",
       "2647  Sandwiches, Buffets, Breakfast & Brunch, Food,...        4.0     0   \n",
       "2648  Sandwiches, Buffets, Breakfast & Brunch, Food,...        4.0     1   \n",
       "\n",
       "            date  funny               review_id  stars  \\\n",
       "0     2017-09-09      0  mQfl6ci46mu0xaZrkRUhlA      5   \n",
       "1     2017-02-08      0  lMarDJDg4-e_0YoJOKJoWA      2   \n",
       "2     2017-12-22      0  30xmXTzJwHPcqt0uvSLQhQ      3   \n",
       "3     2017-09-22      0  SOUuNn4f1fHKxFHntYzonw      3   \n",
       "4     2016-12-14      0  1mAf8vTO6TGTrQ3WSfTB3g      4   \n",
       "5     2017-06-18      0  nnmcNHGLa6TTZ4KP7ZrU7A      1   \n",
       "6     2017-02-28      0  NXOgf4JQNbskd2XYhPJB7A      5   \n",
       "7     2016-11-24      0  R97X06G0_2bbmPp4zmelzA      1   \n",
       "8     2016-12-19      0  yx8hKAOF0bNd56GgFljjxw      4   \n",
       "9     2017-07-02      0  Xci8QJaDOB7OazJIP9U0Cw      5   \n",
       "10    2016-12-22      0  ln43Np8D9ZjMhUk8kJAFAA      5   \n",
       "11    2017-11-26      0  n6rHMUT-AWKkAro8Ho6-Fw      4   \n",
       "12    2017-04-06      0  vAohFUTT0d8GkMPyItcT5Q      5   \n",
       "13    2017-05-21      0  bwi8o0poN-38SrLla5cPCg      1   \n",
       "14    2016-11-02      0  4ugQyvjbHOTX2GINUWwPAQ      3   \n",
       "15    2017-10-25      0  a6eHidYE-UuIEjHLv6HWEQ      4   \n",
       "16    2017-04-30      0  ONiPKlYDi4TSrc6cSTF_Rw      1   \n",
       "17    2017-12-25      0  EgzMuY3EFSlHXHt4CsrVwQ      1   \n",
       "18    2017-08-08      0  4OI80M9-YRSFwBvjDRwDTA      4   \n",
       "19    2016-11-26      0  lRTcHO-AlgbsAhmyUyQDBQ      5   \n",
       "20    2018-01-05      0  NgMaDXWgIY9vVdzFfPWjDg      1   \n",
       "21    2017-01-18      0  aJQujnov4kkkqEN_sTkVbA      2   \n",
       "22    2017-06-17      0  C5qArpcpZTgYV3rh9zAYjA      2   \n",
       "23    2016-11-01      0  Z6wjkUBu5cTgl9VS7As77w      4   \n",
       "24    2017-10-24      0  jQchdj7yCdaJuSm7YdgIvQ      5   \n",
       "25    2017-08-08      0  h0Tq6OITumeTDMP8p_sEmg      5   \n",
       "26    2017-01-03      0  fQwJulRkiN3mGnjfF9Vhlw      3   \n",
       "27    2017-04-24      0  R8LJHarVssSyHkJXK9H7Jg      1   \n",
       "28    2017-07-01      0  U0qiv80DANbYJTf9AvzhLA      4   \n",
       "29    2017-12-25      0  LzfWrvqW3toNSqAyVC2hSQ      1   \n",
       "...          ...    ...                     ...    ...   \n",
       "2619  2017-10-28      0  kwrxrlmSCG9SyCH5uqK5KA      2   \n",
       "2620  2018-03-28      0  iC06wi1-t1gJn-uxFpY06Q      3   \n",
       "2621  2017-11-10      0  0fHd34DdHhAkulojnGgB_Q      3   \n",
       "2622  2018-01-15      0  HRUkzXB3VO2NP_zoabKHKg      5   \n",
       "2623  2017-05-07      0  L5c0evRZ0b3Pvatt1PoR6g      4   \n",
       "2624  2017-05-22      0  s5wIrv-Be196SyvpbN950g      5   \n",
       "2625  2018-01-08      0  F8p2D138_Tt62i7N4GRJrQ      5   \n",
       "2626  2016-10-23      0  LDlE3dQGc0Gq14TlGF41zQ      4   \n",
       "2627  2017-05-28      0  MzHTzPS2FrFcCHSqrttdJQ      1   \n",
       "2628  2017-03-31      1  00JqUnR8_bzciowjWHjOWA      2   \n",
       "2629  2017-05-24      0  n4R2DPwzFrlFwavjZw3f0Q      3   \n",
       "2630  2017-04-03      0  KcgPedakbj3aLN_es21sNQ      3   \n",
       "2631  2017-07-13      0  kdHWu6Ohaya6apEeyaCeSg      2   \n",
       "2632  2016-09-22      3  GT8lmeE8xLUKosgO24FZKw      4   \n",
       "2633  2018-05-06      0  z6xo8s1_AbTXQM45Hj0chQ      1   \n",
       "2634  2016-09-10      5  wscwtNndyj3fyJKXCs7McA      5   \n",
       "2635  2017-12-28      0  yNLpIroAN9Pf7NWip3zqEQ      2   \n",
       "2636  2017-11-22      0  CS0fs-hsLe-ReADrDBaGYQ      5   \n",
       "2637  2017-11-14      0  6M7aPyKr0UhJXGcLOQ__zQ      5   \n",
       "2638  2018-02-06      0  PVri6s6OXBS26SjfAAzsrQ      5   \n",
       "2639  2018-01-19      0  FEKjP5QGt5ZP0Ay4YZ6DhA      3   \n",
       "2640  2016-11-22      0  ixBsFHGweQuG1JW94owCAw      5   \n",
       "2641  2017-03-08      0  56jjEV7mXXuD8KM4A4X4AQ      2   \n",
       "2642  2016-11-14      0  yCw1S65Wwus5FQnxksXUYg      3   \n",
       "2643  2018-04-15      0  4wPhdSSh1q0iEPxdvaNtVQ      1   \n",
       "2644  2017-07-27      0  zcgkWtbyPTWHxfNgse9NXQ      4   \n",
       "2645  2017-05-29      0  LOnYiEt4wpEXytTpuYvKLg      5   \n",
       "2646  2017-07-21      0  ExQVpasAvLxJ71aqOrle9A      4   \n",
       "2647  2017-08-24      0  M0yK8wDRU_IkgKv2JMnz1w      1   \n",
       "2648  2017-07-04      0  w-9UGiO02sXEHOtr0Z6eGw      5   \n",
       "\n",
       "                                                   text  useful  \\\n",
       "0     This buffet is amazing.  Yes, it is expensive,...       0   \n",
       "1     This place....lol our server was nice.  But fo...       0   \n",
       "2     One star knocked off for the cold air conditio...       0   \n",
       "3     Was torn between 2 and 3.  Caught the last of ...       0   \n",
       "4     This place was one of those once in a lifetime...       0   \n",
       "5     Food is subpar. There's a line to get to pay, ...       0   \n",
       "6     This buffet was amazing! It was a bit pricey, ...       1   \n",
       "7     The lines are too long and they manage the lin...       0   \n",
       "8     This is my favorite buffet in LV. There is so ...       1   \n",
       "9     I'm staying at Caesar's Palace for 4th of July...       0   \n",
       "10    Well - this buffet is the buffet to ruin me fo...       0   \n",
       "11    Sunday brunch at Caesar's is pricey. The food ...       2   \n",
       "12    Best buffet in Vegas!  By far this buffet in i...       0   \n",
       "13    Below average, most items not served hot. Too ...       0   \n",
       "14    It was good food, a lot of choices and very cl...       0   \n",
       "15    I really liked all the options they have here....       0   \n",
       "16    The food is not so uniformly bad that it warra...       0   \n",
       "17    This review is for customer service and not fo...       0   \n",
       "18    They have a vast amount of offerings and are s...       0   \n",
       "19    What an incredible buffet!  Although we though...       0   \n",
       "20    This review is only for the Christmas Feast. T...       2   \n",
       "21    Brunch is not worth the price. There's a varie...       0   \n",
       "22    When it first opened, this place was beyond am...       1   \n",
       "23    We have dined at this buffet several times but...       0   \n",
       "24    Best buffet I've ever been to. The quality of ...       0   \n",
       "25    Amazing food selection and our server, Carlos ...       0   \n",
       "26    I was so excited to try this buffet, as I was ...       0   \n",
       "27    The food is excellent here but the service is ...       0   \n",
       "28    Came in on Friday and was very exited,because ...       0   \n",
       "29    The service is terrible here. We were told tha...       0   \n",
       "...                                                 ...     ...   \n",
       "2619  Quality and personnel managed poorly .\\nLots o...       0   \n",
       "2620  The place look nice, service was good ( when u...       0   \n",
       "2621  It's ok the quality has gone down since they o...       0   \n",
       "2622  It was really good. The key is to get there at...       1   \n",
       "2623  One of the best buffets I've been too!  Amazin...       0   \n",
       "2624  By far the best buffet I have ever been to and...       2   \n",
       "2625  This was amazing. We got the Groupon which sav...       0   \n",
       "2626  I been here many many times. It's either a hit...       0   \n",
       "2627  The line wait is entirely too long. The staff ...       1   \n",
       "2628  I cannot understand for the life of me why the...       0   \n",
       "2629  I've been here twice. Wait time's over an hour...       1   \n",
       "2630  I'd probably actually go 3.5 stars, but am cho...       0   \n",
       "2631  Mediocre but totally overcooked meat. The only...       2   \n",
       "2632  Wow, their selection is HUGE. There is so much...       4   \n",
       "2633  We've tried the Bacchanal Buffet and the food ...       2   \n",
       "2634  Where do I start? We flew in from California a...       5   \n",
       "2635  Y'all such a disappointment for a luxury buffe...       0   \n",
       "2636  Great buffet but the line sucks.    The food i...       0   \n",
       "2637  This is one of the best buffets in Vegas!  Mak...       0   \n",
       "2638  I loveeeeeee Bacchanal Buffet! Even when I had...       0   \n",
       "2639  This buffet was pretty disappointing for me. W...       1   \n",
       "2640  This is HANDS DOWN the best buffet in Vegas, b...       0   \n",
       "2641  I had very high expectations. Went on a Monday...       0   \n",
       "2642  Just whatever. Yes there are tons of options b...       1   \n",
       "2643  I would give 2 or 3 stars just for the taste, ...       2   \n",
       "2644  update to previous review--the manager reached...       0   \n",
       "2645  Honestly one of the best buffets I've ever gon...       1   \n",
       "2646  The seafood selection is amazing!! Steaming cr...       0   \n",
       "2647  Terrible hostess and management! They don't kn...       0   \n",
       "2648  Still my favorite buffet in Vegas. It's on the...       0   \n",
       "\n",
       "                     user_id  favorable  \n",
       "0     f638AHA_GoHbyDB7VFMz7A       True  \n",
       "1     A21zMqdN76ueLZFpmbue0Q      False  \n",
       "2     uNHEnP28MMmVy96ZSJKaMA      False  \n",
       "3     WvVqnHU_eVBUfL-CI9efdw      False  \n",
       "4     aYLS5lhdCp5HSPOtkMvapw      False  \n",
       "5     KIbfAG_JrTEPt6aQXcnQJg      False  \n",
       "6     wHeH7PwKHubMjmx9SroN4w       True  \n",
       "7     oyDVFvjN4DSV6cB1qNbcPQ      False  \n",
       "8     f1CbfW56DOndXHd1yfADYg      False  \n",
       "9     J90_7u_8vPYa03GMohNxAA       True  \n",
       "10    XqplU1pecde94DR7gXO5WQ       True  \n",
       "11    sfpgA58pdGKebocTe4N_-w      False  \n",
       "12    Hc0v8M1RP6sUuFQ2_zLP6Q       True  \n",
       "13    sY3dmQqrXChk_Xu8Oq3bNw      False  \n",
       "14    6PAwZhgLN7SiIJQOCsOAAQ      False  \n",
       "15    6y6DP6oaKsrjWJzZgBPsrw      False  \n",
       "16    zNIY5gxR2Co3zxwzhNUqdw      False  \n",
       "17    W-Qv_mWXqXQRO_tHEA5IdA      False  \n",
       "18    7WCWbSWAOxaAu2DoK76D1g      False  \n",
       "19    9GsG5tznbCcs7s0FkFNKsw       True  \n",
       "20    9RRbE-vBxAEVUEUk7rYBvg      False  \n",
       "21    NehrtwXQHdMG60dNtiirsQ      False  \n",
       "22    vrYY6ByqCS-2We-raSqjXQ      False  \n",
       "23    meubJODY6950PeJqWnMDFg      False  \n",
       "24    Aakk0sc4oG66AcodpbppJg       True  \n",
       "25    PoriwPcu7mPdeUgyXukLAQ       True  \n",
       "26    Roo5xp66Ky7Su7I8cy03ng      False  \n",
       "27    eKhIZuHdxKEmFkIZ-esCSg      False  \n",
       "28    xAov4bfHFiAxHafYKL0o9A      False  \n",
       "29    MfB7V8uw5hi4rWg4XhA2Cw      False  \n",
       "...                      ...        ...  \n",
       "2619  BgTEmV6LRcbtb-TK9JI6vA      False  \n",
       "2620  KiDb4E4_Lphs5ipNBTJ8Jw      False  \n",
       "2621  fuMLnjEjt3_GM5rc0XJY2Q      False  \n",
       "2622  lsexbkjji_HnfuwyQemxAw       True  \n",
       "2623  DJhNKewgtH49pFBTDTMWDw      False  \n",
       "2624  kF_0e6TCSYT2iNIW_k2s6g       True  \n",
       "2625  QeF5jw2XaZEXlvT-nhrhAg       True  \n",
       "2626  3o5RxAwstVARRW-SW66T6g      False  \n",
       "2627  2VAgqn-OM0a6aP4ICf6_VQ      False  \n",
       "2628  _xtAMzARgplBZy8YRzVECw      False  \n",
       "2629  qUk-Qa1JYnuK4VmmEbSYsA      False  \n",
       "2630  hq43LbaQgUBwNRIDI5Uijw      False  \n",
       "2631  8rDS2iYOjMHfZ16xX7ekCA      False  \n",
       "2632  P15deK_pnTZ807ytncdllA      False  \n",
       "2633  hwIWle9HcFSBPmeCxHGs0g      False  \n",
       "2634  9Dd1fLx93JRGypYC_3i9Zw       True  \n",
       "2635  gF8E2gC8JKXdF7tD8uYabw      False  \n",
       "2636  oUCaxUBcruhxU4XhCF523w       True  \n",
       "2637  3haQPlxXOeRkzIeQeFjGaQ       True  \n",
       "2638  FMMG10-FrTutjs00CSvgYg       True  \n",
       "2639  ZRFzuTwpYlrqNBK1rbjDAA      False  \n",
       "2640  vbNrFaaoCXzlfVe1bGwkog       True  \n",
       "2641  hG2pEwKK6qZgC3xatACuqw      False  \n",
       "2642  ybgMEBq2So3FFfiFF1rh-g      False  \n",
       "2643  TSQQ4x91kMsEqFHgyUnWbw      False  \n",
       "2644  uYezJh0z1FcOK8BeTb-MNQ      False  \n",
       "2645  J3ykuVkcYsttcksT_fIbpw       True  \n",
       "2646  B82EQctgw789hsmegYCzRQ      False  \n",
       "2647  cJQE_lyQygHPadn4h0C8Jw      False  \n",
       "2648  8zLtEdRSuCHU-qmnFgwF0w       True  \n",
       "\n",
       "[2649 rows x 14 columns]"
      ]
     },
     "execution_count": 215,
     "metadata": {},
     "output_type": "execute_result"
    }
   ],
   "source": [
    "df_top_restaurant"
   ]
  },
  {
   "cell_type": "code",
   "execution_count": 216,
   "metadata": {},
   "outputs": [],
   "source": [
    "documents_top_restaurant = df_top_restaurant['text'].values"
   ]
  },
  {
   "cell_type": "code",
   "execution_count": 217,
   "metadata": {},
   "outputs": [
    {
     "data": {
      "text/plain": [
       "(dtype('O'), (2649,))"
      ]
     },
     "execution_count": 217,
     "metadata": {},
     "output_type": "execute_result"
    }
   ],
   "source": [
    "documents_top_restaurant.dtype, documents_top_restaurant.shape"
   ]
  },
  {
   "cell_type": "code",
   "execution_count": 218,
   "metadata": {},
   "outputs": [
    {
     "data": {
      "text/plain": [
       "array([\"This buffet is amazing.  Yes, it is expensive, but it is worth the splurge.  I recommend that you look at everything first and then decide what to get, because you can't possibly try everything.  I missed an entire corner of great food that I didn't see at first, and then I was too full to eat more. I like how everything is on little plates, bowls, or baskets, so everything doesn't get mixed together.  Lines are long, but you can check in and then they text when your time is almost up.  The wait time was less than they had said it would be, so don't go far away to wait.\",\n",
       "       'This place....lol our server was nice.  But for 50 something dollars for dinner was not worth it....Sorry but if I could choose another place to spend that much I know I would have been much happier. Not to mention they took a photo of us when we came in then brought us like 3-4 printouts of them, I mean nice ones...then they told us it was 15 dollars for one of the pictures...we honestly thought out of all the money we spent we\\'d at least get the pics for \"free.\"  So they went through all the trouble to print them and then are going to throw them away because we didn\\'t want to pay for them? Why not just give us the photos...Food was cold, poor quality of meats, etc..Also not near as big as this looks! Just bummed we spent so much. \\nSorry can\\'t recommend this at all.',\n",
       "       'One star knocked off for the cold air conditioning and 1 star knocked off for the loud music and the food was good so it will be only 3 stars.'],\n",
       "      dtype=object)"
      ]
     },
     "execution_count": 218,
     "metadata": {},
     "output_type": "execute_result"
    }
   ],
   "source": [
    "documents_top_restaurant[:3]"
   ]
  },
  {
   "cell_type": "code",
   "execution_count": 219,
   "metadata": {},
   "outputs": [],
   "source": [
    "df_top_restaurant['favorable'] = (df_top_restaurant['stars']>4)"
   ]
  },
  {
   "cell_type": "code",
   "execution_count": 220,
   "metadata": {},
   "outputs": [],
   "source": [
    "target_top_restaurant=df_top_restaurant['favorable'].values.astype(int)"
   ]
  },
  {
   "cell_type": "code",
   "execution_count": 221,
   "metadata": {},
   "outputs": [
    {
     "data": {
      "text/plain": [
       "array([1, 0, 0, ..., 0, 0, 1])"
      ]
     },
     "execution_count": 221,
     "metadata": {},
     "output_type": "execute_result"
    }
   ],
   "source": [
    "target_top_restaurant"
   ]
  },
  {
   "cell_type": "code",
   "execution_count": 222,
   "metadata": {},
   "outputs": [
    {
     "data": {
      "text/plain": [
       "0.3763684409211023"
      ]
     },
     "execution_count": 222,
     "metadata": {},
     "output_type": "execute_result"
    }
   ],
   "source": [
    "target_top_restaurant.mean()"
   ]
  },
  {
   "cell_type": "code",
   "execution_count": 223,
   "metadata": {},
   "outputs": [
    {
     "data": {
      "text/plain": [
       "((2649,), (2649,))"
      ]
     },
     "execution_count": 223,
     "metadata": {},
     "output_type": "execute_result"
    }
   ],
   "source": [
    "documents_top_restaurant.shape, target_top_restaurant.shape"
   ]
  },
  {
   "cell_type": "code",
   "execution_count": 224,
   "metadata": {},
   "outputs": [],
   "source": [
    "from sklearn.cross_validation import train_test_split"
   ]
  },
  {
   "cell_type": "code",
   "execution_count": 225,
   "metadata": {},
   "outputs": [],
   "source": [
    "X_train, X_test, y_train, y_test = train_test_split(\n",
    "documents_top_restaurant, target_top_restaurant, test_size=0.40,random_state=42)"
   ]
  },
  {
   "cell_type": "code",
   "execution_count": 226,
   "metadata": {},
   "outputs": [
    {
     "data": {
      "text/plain": [
       "((1589,), (1060,), (1589,), (1060,))"
      ]
     },
     "execution_count": 226,
     "metadata": {},
     "output_type": "execute_result"
    }
   ],
   "source": [
    "X_train.shape, X_test.shape, y_train.shape, y_test.shape"
   ]
  },
  {
   "cell_type": "code",
   "execution_count": 227,
   "metadata": {},
   "outputs": [],
   "source": [
    "from sklearn.feature_extraction.text import TfidfVectorizer"
   ]
  },
  {
   "cell_type": "code",
   "execution_count": 228,
   "metadata": {},
   "outputs": [],
   "source": [
    "vectorizer = TfidfVectorizer(stop_words = 'english', max_features=1000)"
   ]
  },
  {
   "cell_type": "code",
   "execution_count": 229,
   "metadata": {},
   "outputs": [],
   "source": [
    "vectors_train=vectorizer.fit_transform(X_train).toarray()"
   ]
  },
  {
   "cell_type": "code",
   "execution_count": 230,
   "metadata": {},
   "outputs": [],
   "source": [
    "words=vectorizer.get_feature_names()"
   ]
  },
  {
   "cell_type": "code",
   "execution_count": 231,
   "metadata": {},
   "outputs": [
    {
     "data": {
      "text/plain": [
       "(1589, 1000)"
      ]
     },
     "execution_count": 231,
     "metadata": {},
     "output_type": "execute_result"
    }
   ],
   "source": [
    "vectors_train.shape"
   ]
  },
  {
   "cell_type": "code",
   "execution_count": 232,
   "metadata": {},
   "outputs": [],
   "source": [
    "vectors_test=vectorizer.transform(X_test).toarray()"
   ]
  },
  {
   "cell_type": "code",
   "execution_count": 233,
   "metadata": {},
   "outputs": [],
   "source": [
    "vectors_documents_top_restaurant=vectorizer.transform(documents_top_restaurant).toarray()"
   ]
  },
  {
   "cell_type": "code",
   "execution_count": 235,
   "metadata": {},
   "outputs": [
    {
     "data": {
      "text/plain": [
       "KMeans(algorithm='auto', copy_x=True, init='k-means++', max_iter=300,\n",
       "    n_clusters=5, n_init=10, n_jobs=1, precompute_distances='auto',\n",
       "    random_state=None, tol=0.0001, verbose=0)"
      ]
     },
     "execution_count": 235,
     "metadata": {},
     "output_type": "execute_result"
    }
   ],
   "source": [
    "from sklearn.cluster import KMeans\n",
    "kmeans = KMeans(n_clusters=5)\n",
    "kmeans.fit(vectors_train)"
   ]
  },
  {
   "cell_type": "code",
   "execution_count": 236,
   "metadata": {},
   "outputs": [],
   "source": [
    "assigned_cluster=kmeans.predict(vectors_documents_top_restaurant)"
   ]
  },
  {
   "cell_type": "code",
   "execution_count": 237,
   "metadata": {},
   "outputs": [
    {
     "name": "stdout",
     "output_type": "stream",
     "text": [
      "cluster centers:\n",
      "(5, 1000)\n"
     ]
    }
   ],
   "source": [
    "print(\"cluster centers:\")\n",
    "print(kmeans.cluster_centers_.shape)"
   ]
  },
  {
   "cell_type": "code",
   "execution_count": 238,
   "metadata": {},
   "outputs": [],
   "source": [
    "n_feat=10\n",
    "top_centroids = kmeans.cluster_centers_.argsort()[:,-1:-n_feat:-1]"
   ]
  },
  {
   "cell_type": "code",
   "execution_count": 239,
   "metadata": {},
   "outputs": [
    {
     "name": "stdout",
     "output_type": "stream",
     "text": [
      "top features for each cluster:\n",
      "0: food, good, buffet, really, price, quality, worth, just, service\n",
      "1: crab, buffet, legs, food, seafood, good, station, section, dessert\n",
      "2: wait, line, food, long, time, buffet, hour, worth, minutes\n",
      "3: buffet, best, vegas, food, buffets, definitely, las, bacchanal, quality\n",
      "4: great, food, service, buffet, selection, definitely, vegas, worth, place\n"
     ]
    }
   ],
   "source": [
    "print(\"top features for each cluster:\")\n",
    "for num, centroid in enumerate(top_centroids):\n",
    "    print(\"%d: %s\" % (num, \", \".join(words[i] for i in centroid)))"
   ]
  },
  {
   "cell_type": "code",
   "execution_count": 240,
   "metadata": {},
   "outputs": [
    {
     "data": {
      "text/plain": [
       "array([0, 1, 2, 3, 4], dtype=int32)"
      ]
     },
     "execution_count": 240,
     "metadata": {},
     "output_type": "execute_result"
    }
   ],
   "source": [
    "np.unique(assigned_cluster)"
   ]
  },
  {
   "cell_type": "code",
   "execution_count": 242,
   "metadata": {},
   "outputs": [
    {
     "name": "stdout",
     "output_type": "stream",
     "text": [
      "==========\n",
      "Cluster 0:\n",
      "    3 - \n",
      "Very good selection, and good tasting. Healthy choices too at almost every station. My daughter says to avoid the canolis. The pizza was actually very good. Be sure to watch their close times (lunch ends at 3), but better value for lunch over dinner.\n",
      "    5 - \n",
      "I LOVE THIS PLACE!!\n",
      "\n",
      "I work around the corner from Sin City Thai and multiple people from my office (including me) eat here religiously... at least once a week!  Everything I have ever had has been awesome, and the food is consistently good... I am a curry snob, and their curry is some of the best I have ever tasted!\n",
      "\n",
      "I also love the staff; they're all so friendly and you can tell they really care about their customers! :)\n",
      "\n",
      "==========\n",
      "Cluster 1:\n",
      "    5 - \n",
      "This place is very cute and laid back.  Little locally but maybe that's why I like it.  Horseshoes in vegas!!!!\n",
      "    5 - \n",
      "I had dinner here on a Sunday and had a great experience. Stepping into Bavette's from the casino it feels like a different world, completely isolated from the sounds and lights of the casino floor. Bavette's has a classic feel to it, a dark room, nothing avant garde or fusion with the food, drinks served in gimlets...\n",
      "Our server, Brian was prompt and attentive and made sure to explain how Bavettes was different than other steak houses and gave us advice on our orders. \n",
      "Bavette's is about food that is big enough to share, and they don't mind if you do. Regular salads could feed 4, so Brian suggested we do a half order (1/2 price) which was the perfect amount for my wife and I. \n",
      "\n",
      "I appreciated that there was no issues when I had to push back my reservation. There are a lot of steakhouses in Vegas, this is one that offers a bit of a break from the noise and hustle.\n",
      "\n",
      "==========\n",
      "Cluster 2:\n",
      "    2 - \n",
      "Lousy steak. \n",
      "\n",
      "The service was great - Todd, Jennifer, and Nicole were very attentive and personable. Our biggest complaint was the food. The heirloom tomato salad was good which isn't saying much, but the steak was underwhelming.  The rack of lamb was probably the best dish we ordered, despite being a steakhouse. \n",
      "\n",
      "We ordered two bone in rib eyes, a bone in New York strip, and a rack of lamb. The steaks were under seasoned and lacked that beefy flavor you'd expect from a steak.  We were told that the steaks were wet aged then dry aged, but couldn't taste any of that nuttiness that comes from dry aging. The meat was tender, but didn't have much else going for it. \n",
      "\n",
      "We've eaten a handful of Emeril Lagasse's restaurants before, but this one really missed the mark.\n",
      "    1 - \n",
      "Yikes! The Orleans Casino and Boyd spent 4.5 million dollars completely renovating the buffet, changing the name, layout and everything. I was super excited when I got a coupon for 2 free buffets and couldn't wait to give their new buffet a try.\n",
      "\n",
      "Lets just say I'm glad I didn't pay for this. \n",
      "\n",
      "On my first plate I tried their cheese enchilada (because how in the heck can you mess that up), rice and a few pieces of sushi. The sushi was inedible, falling apart, dry and fishy. The enchilada was over-cooked, falling apart and to say it was salty would be understating the salinity of this abomination. The rice, surprisingly crunchy.\n",
      "\n",
      "I had literally one bite of everything and ditched the plate. I thought for sure our server was going to kick me out or something for throwing out an entire plate of food, but thankfully he didn't say anything.\n",
      "\n",
      "Round 2: I tried the steak, a salad, some chow mein, and cheese ravioli with marinara. \n",
      "\n",
      "So I ended up eating the salad for dinner (the rest was inedible). \n",
      "\n",
      "Dessert was bland. Also, like every other casino in Vegas, they have those cute little desserts in the clear cups, and small tarts.... unlike other casinos, they put these tarts behind glass and you have to ask for the ones you want. So weird... you just know they're going to shame you if you ask to try 3 or 4 different tarts.\n",
      "\n",
      "One guy reviewed the Aliante's buffet and said that if you wanted to know what the color beige tastes like you should eat there. EXACTLY! If you want to know what the color beige tastes like-- this is your jam. I would have been really upset had I actually paid the $43 for 2 buffets. \n",
      "\n",
      "Pros: The place is gorgeous, new, and modern.\n",
      "Cons: The food is terrible.\n",
      "\n",
      "==========\n",
      "Cluster 3:\n",
      "    1 - \n",
      "This place had become a mediocre restaurant compared to when they first opened up. The lack of customer service is very disappointing. When the restaurant first opened, everyone was amicable and showed tremendous care for the customers. My last visit was a disappointment; this place changed drastically with their service.  Such a shame because their food tastes excellent however the servers and their customer service is terrible.\n",
      "    4 - \n",
      "Came at noon on a Sunday and waited about 10 min not bad compared to what it looked like last night - we chose not to wait.\n",
      "\n",
      "Pros - nice service and decor\n",
      "            Flavorful chicken ramen and super hot (temp)\n",
      "            They do serve limited beer \n",
      "            Decent menu options \n",
      "\n",
      "Cons- a bit pricey for the amount of soup you get and only 2 super small pieces of chicken. \n",
      "            My daughter thought there should be a wider selection of ramen options \n",
      "\n",
      "Not a bad little spot. I'm excited to have it in the northwest.\n",
      "\n",
      "==========\n",
      "Cluster 4:\n",
      "    4 - \n",
      "This place was pretty good, food wise. Staff is the reason for 4 and not 5 stars...they were so confused, lol. It was like a bunch of chickens running around with their heads cut off! Nobody had it together, they even gave me the wrong tab...twice!\n",
      "My extra spicy miso ramen was the bomb.com though and I will definitely be back...\n",
      "    5 - \n",
      "The entire experience was phenomenal!  From the staff, food presentation (loved the table side preparation of our Caesar salad), and of course the flavor of the food. We would absolutely return for another dinner.\n",
      "\n"
     ]
    },
    {
     "name": "stderr",
     "output_type": "stream",
     "text": [
      "/anaconda3/lib/python3.6/site-packages/ipykernel_launcher.py:7: DeprecationWarning: \n",
      ".ix is deprecated. Please use\n",
      ".loc for label based indexing or\n",
      ".iloc for positional indexing\n",
      "\n",
      "See the documentation here:\n",
      "http://pandas.pydata.org/pandas-docs/stable/indexing.html#ix-indexer-is-deprecated\n",
      "  import sys\n",
      "/anaconda3/lib/python3.6/site-packages/ipykernel_launcher.py:8: DeprecationWarning: \n",
      ".ix is deprecated. Please use\n",
      ".loc for label based indexing or\n",
      ".iloc for positional indexing\n",
      "\n",
      "See the documentation here:\n",
      "http://pandas.pydata.org/pandas-docs/stable/indexing.html#ix-indexer-is-deprecated\n",
      "  \n"
     ]
    }
   ],
   "source": [
    "for i in range(kmeans.n_clusters):\n",
    "    cluster=np.arange(0,vectors_documents_top_restaurant.shape[0])[assigned_cluster==i]\n",
    "    sample_reviews = np.random.choice(cluster,2,replace=False)\n",
    "    print(\"=\" * 10)\n",
    "    print(\"Cluster %d:\" % i)\n",
    "    for review_index in sample_reviews:\n",
    "        print(\"    %s - \" % df.ix[review_index]['stars']),\n",
    "        print(\"%s\" % df.ix[review_index]['text'])\n",
    "    print()"
   ]
  },
  {
   "cell_type": "code",
   "execution_count": 243,
   "metadata": {},
   "outputs": [],
   "source": [
    "from sklearn.preprocessing import StandardScaler"
   ]
  },
  {
   "cell_type": "code",
   "execution_count": 244,
   "metadata": {},
   "outputs": [],
   "source": [
    "scaler=StandardScaler()\n",
    "X_train_scaled=scaler.fit_transform(vectors_train)\n",
    "X_test_scaled=scaler.transform(vectors_test)"
   ]
  },
  {
   "cell_type": "code",
   "execution_count": 247,
   "metadata": {},
   "outputs": [],
   "source": [
    "from sklearn.decomposition import PCA\n",
    "n_col=50\n",
    "pca=PCA(n_components=n_col)\n",
    "X_train_pca=pca.fit_transform(X_train_scaled)\n",
    "X_test_pca=pca.transform(X_test_scaled)"
   ]
  },
  {
   "cell_type": "code",
   "execution_count": 248,
   "metadata": {},
   "outputs": [
    {
     "data": {
      "text/plain": [
       "((1589, 50), (1060, 50))"
      ]
     },
     "execution_count": 248,
     "metadata": {},
     "output_type": "execute_result"
    }
   ],
   "source": [
    "X_train_pca.shape, X_test_pca.shape"
   ]
  },
  {
   "cell_type": "code",
   "execution_count": 249,
   "metadata": {},
   "outputs": [
    {
     "data": {
      "text/plain": [
       "(50, 1000)"
      ]
     },
     "execution_count": 249,
     "metadata": {},
     "output_type": "execute_result"
    }
   ],
   "source": [
    "pca.components_.shape"
   ]
  },
  {
   "cell_type": "code",
   "execution_count": 250,
   "metadata": {},
   "outputs": [
    {
     "name": "stdout",
     "output_type": "stream",
     "text": [
      "[8.39803843 6.23025671 4.73072775 4.37522523 4.10937424 3.90761368\n",
      " 3.78649585 3.63037739 3.57852687 3.47155333]\n"
     ]
    }
   ],
   "source": [
    "print(pca.explained_variance_[:10])"
   ]
  },
  {
   "cell_type": "code",
   "execution_count": 251,
   "metadata": {},
   "outputs": [
    {
     "name": "stdout",
     "output_type": "stream",
     "text": [
      "[0.00839275 0.00622634 0.00472775 0.00437247 0.00410679 0.00390515\n",
      " 0.00378411 0.00362809 0.00357627 0.00346937]\n"
     ]
    }
   ],
   "source": [
    "print(pca.explained_variance_ratio_[:10])"
   ]
  },
  {
   "cell_type": "code",
   "execution_count": 255,
   "metadata": {},
   "outputs": [
    {
     "data": {
      "text/plain": [
       "Text(0,0.5,'Variance Explained')"
      ]
     },
     "execution_count": 255,
     "metadata": {},
     "output_type": "execute_result"
    },
    {
     "data": {
      "image/png": "[encoded data removed]",
      "text/plain": [
       "<Figure size 648x648 with 1 Axes>"
      ]
     },
     "metadata": {},
     "output_type": "display_data"
    }
   ],
   "source": [
    "n_col_to_display=20\n",
    "pca_range = np.arange(n_col_to_display) + 1\n",
    "pca_names = ['PCA_%s' % i for i in pca_range]\n",
    "\n",
    "plt.figure(figsize=(9,9))\n",
    "plt.bar(pca_range,pca.explained_variance_[:n_col_to_display],align='center')\n",
    "xticks=plt.xticks(pca_range,pca_names,rotation=90)\n",
    "plt.ylabel('Variance Explained')"
   ]
  },
  {
   "cell_type": "code",
   "execution_count": 256,
   "metadata": {},
   "outputs": [
    {
     "data": {
      "text/plain": [
       "((1589, 1000), (1589,))"
      ]
     },
     "execution_count": 256,
     "metadata": {},
     "output_type": "execute_result"
    }
   ],
   "source": [
    "X_train_scaled.shape, y_train.shape"
   ]
  },
  {
   "cell_type": "code",
   "execution_count": 257,
   "metadata": {},
   "outputs": [
    {
     "data": {
      "text/plain": [
       "((1589, 50), (1589,))"
      ]
     },
     "execution_count": 257,
     "metadata": {},
     "output_type": "execute_result"
    }
   ],
   "source": [
    "X_train_pca.shape, y_train.shape"
   ]
  },
  {
   "cell_type": "code",
   "execution_count": 258,
   "metadata": {},
   "outputs": [],
   "source": [
    "from sklearn.linear_model import LogisticRegression"
   ]
  },
  {
   "cell_type": "code",
   "execution_count": 259,
   "metadata": {},
   "outputs": [],
   "source": [
    "model_lrc=LogisticRegression()"
   ]
  },
  {
   "cell_type": "code",
   "execution_count": 260,
   "metadata": {},
   "outputs": [
    {
     "data": {
      "text/plain": [
       "LogisticRegression(C=1.0, class_weight=None, dual=False, fit_intercept=True,\n",
       "          intercept_scaling=1, max_iter=100, multi_class='ovr', n_jobs=1,\n",
       "          penalty='l2', random_state=None, solver='liblinear', tol=0.0001,\n",
       "          verbose=0, warm_start=False)"
      ]
     },
     "execution_count": 260,
     "metadata": {},
     "output_type": "execute_result"
    }
   ],
   "source": [
    "model_lrc.fit(X_train_scaled, y_train)"
   ]
  },
  {
   "cell_type": "code",
   "execution_count": 261,
   "metadata": {},
   "outputs": [
    {
     "data": {
      "text/plain": [
       "1.0"
      ]
     },
     "execution_count": 261,
     "metadata": {},
     "output_type": "execute_result"
    }
   ],
   "source": [
    "model_lrc.score(X_train_scaled, y_train)"
   ]
  },
  {
   "cell_type": "code",
   "execution_count": 262,
   "metadata": {},
   "outputs": [
    {
     "data": {
      "text/plain": [
       "0.7047169811320755"
      ]
     },
     "execution_count": 262,
     "metadata": {},
     "output_type": "execute_result"
    }
   ],
   "source": [
    "model_lrc.score(X_test_scaled, y_test)"
   ]
  },
  {
   "cell_type": "code",
   "execution_count": 263,
   "metadata": {},
   "outputs": [],
   "source": [
    "from sklearn.linear_model import LogisticRegression"
   ]
  },
  {
   "cell_type": "code",
   "execution_count": 264,
   "metadata": {},
   "outputs": [
    {
     "data": {
      "text/plain": [
       "LogisticRegression(C=1.0, class_weight=None, dual=False, fit_intercept=True,\n",
       "          intercept_scaling=1, max_iter=100, multi_class='ovr', n_jobs=1,\n",
       "          penalty='l2', random_state=None, solver='liblinear', tol=0.0001,\n",
       "          verbose=0, warm_start=False)"
      ]
     },
     "execution_count": 264,
     "metadata": {},
     "output_type": "execute_result"
    }
   ],
   "source": [
    "odel_lrc=LogisticRegression()\n",
    "model_lrc.fit(X_train_pca, y_train)"
   ]
  },
  {
   "cell_type": "code",
   "execution_count": 265,
   "metadata": {},
   "outputs": [
    {
     "data": {
      "text/plain": [
       "0.7726415094339623"
      ]
     },
     "execution_count": 265,
     "metadata": {},
     "output_type": "execute_result"
    }
   ],
   "source": [
    "model_lrc.score(X_test_pca, y_test)"
   ]
  },
  {
   "cell_type": "code",
   "execution_count": 266,
   "metadata": {},
   "outputs": [
    {
     "data": {
      "text/html": [
       "<div>\n",
       "<style scoped>\n",
       "    .dataframe tbody tr th:only-of-type {\n",
       "        vertical-align: middle;\n",
       "    }\n",
       "\n",
       "    .dataframe tbody tr th {\n",
       "        vertical-align: top;\n",
       "    }\n",
       "\n",
       "    .dataframe thead th {\n",
       "        text-align: right;\n",
       "    }\n",
       "</style>\n",
       "<table border=\"1\" class=\"dataframe\">\n",
       "  <thead>\n",
       "    <tr style=\"text-align: right;\">\n",
       "      <th></th>\n",
       "      <th>PCs</th>\n",
       "      <th>coeff</th>\n",
       "    </tr>\n",
       "  </thead>\n",
       "  <tbody>\n",
       "    <tr>\n",
       "      <th>7</th>\n",
       "      <td>PCA_8</td>\n",
       "      <td>0.171573</td>\n",
       "    </tr>\n",
       "    <tr>\n",
       "      <th>6</th>\n",
       "      <td>PCA_7</td>\n",
       "      <td>0.109225</td>\n",
       "    </tr>\n",
       "    <tr>\n",
       "      <th>35</th>\n",
       "      <td>PCA_36</td>\n",
       "      <td>0.091195</td>\n",
       "    </tr>\n",
       "    <tr>\n",
       "      <th>31</th>\n",
       "      <td>PCA_32</td>\n",
       "      <td>0.083725</td>\n",
       "    </tr>\n",
       "    <tr>\n",
       "      <th>32</th>\n",
       "      <td>PCA_33</td>\n",
       "      <td>0.074831</td>\n",
       "    </tr>\n",
       "    <tr>\n",
       "      <th>18</th>\n",
       "      <td>PCA_19</td>\n",
       "      <td>0.069950</td>\n",
       "    </tr>\n",
       "    <tr>\n",
       "      <th>10</th>\n",
       "      <td>PCA_11</td>\n",
       "      <td>0.067929</td>\n",
       "    </tr>\n",
       "    <tr>\n",
       "      <th>16</th>\n",
       "      <td>PCA_17</td>\n",
       "      <td>0.067871</td>\n",
       "    </tr>\n",
       "    <tr>\n",
       "      <th>20</th>\n",
       "      <td>PCA_21</td>\n",
       "      <td>0.056463</td>\n",
       "    </tr>\n",
       "    <tr>\n",
       "      <th>39</th>\n",
       "      <td>PCA_40</td>\n",
       "      <td>0.052674</td>\n",
       "    </tr>\n",
       "    <tr>\n",
       "      <th>24</th>\n",
       "      <td>PCA_25</td>\n",
       "      <td>0.047469</td>\n",
       "    </tr>\n",
       "    <tr>\n",
       "      <th>37</th>\n",
       "      <td>PCA_38</td>\n",
       "      <td>0.045492</td>\n",
       "    </tr>\n",
       "    <tr>\n",
       "      <th>38</th>\n",
       "      <td>PCA_39</td>\n",
       "      <td>0.038182</td>\n",
       "    </tr>\n",
       "    <tr>\n",
       "      <th>23</th>\n",
       "      <td>PCA_24</td>\n",
       "      <td>0.032605</td>\n",
       "    </tr>\n",
       "    <tr>\n",
       "      <th>14</th>\n",
       "      <td>PCA_15</td>\n",
       "      <td>0.029354</td>\n",
       "    </tr>\n",
       "    <tr>\n",
       "      <th>49</th>\n",
       "      <td>PCA_50</td>\n",
       "      <td>0.025683</td>\n",
       "    </tr>\n",
       "    <tr>\n",
       "      <th>34</th>\n",
       "      <td>PCA_35</td>\n",
       "      <td>0.021309</td>\n",
       "    </tr>\n",
       "    <tr>\n",
       "      <th>36</th>\n",
       "      <td>PCA_37</td>\n",
       "      <td>-0.006095</td>\n",
       "    </tr>\n",
       "    <tr>\n",
       "      <th>27</th>\n",
       "      <td>PCA_28</td>\n",
       "      <td>-0.011137</td>\n",
       "    </tr>\n",
       "    <tr>\n",
       "      <th>28</th>\n",
       "      <td>PCA_29</td>\n",
       "      <td>-0.012354</td>\n",
       "    </tr>\n",
       "    <tr>\n",
       "      <th>47</th>\n",
       "      <td>PCA_48</td>\n",
       "      <td>-0.015460</td>\n",
       "    </tr>\n",
       "    <tr>\n",
       "      <th>45</th>\n",
       "      <td>PCA_46</td>\n",
       "      <td>-0.015639</td>\n",
       "    </tr>\n",
       "    <tr>\n",
       "      <th>41</th>\n",
       "      <td>PCA_42</td>\n",
       "      <td>-0.027662</td>\n",
       "    </tr>\n",
       "    <tr>\n",
       "      <th>46</th>\n",
       "      <td>PCA_47</td>\n",
       "      <td>-0.032013</td>\n",
       "    </tr>\n",
       "    <tr>\n",
       "      <th>33</th>\n",
       "      <td>PCA_34</td>\n",
       "      <td>-0.035720</td>\n",
       "    </tr>\n",
       "    <tr>\n",
       "      <th>12</th>\n",
       "      <td>PCA_13</td>\n",
       "      <td>-0.036648</td>\n",
       "    </tr>\n",
       "    <tr>\n",
       "      <th>42</th>\n",
       "      <td>PCA_43</td>\n",
       "      <td>-0.039295</td>\n",
       "    </tr>\n",
       "    <tr>\n",
       "      <th>3</th>\n",
       "      <td>PCA_4</td>\n",
       "      <td>-0.048150</td>\n",
       "    </tr>\n",
       "    <tr>\n",
       "      <th>43</th>\n",
       "      <td>PCA_44</td>\n",
       "      <td>-0.048189</td>\n",
       "    </tr>\n",
       "    <tr>\n",
       "      <th>15</th>\n",
       "      <td>PCA_16</td>\n",
       "      <td>-0.048728</td>\n",
       "    </tr>\n",
       "    <tr>\n",
       "      <th>40</th>\n",
       "      <td>PCA_41</td>\n",
       "      <td>-0.050774</td>\n",
       "    </tr>\n",
       "    <tr>\n",
       "      <th>22</th>\n",
       "      <td>PCA_23</td>\n",
       "      <td>-0.052633</td>\n",
       "    </tr>\n",
       "    <tr>\n",
       "      <th>30</th>\n",
       "      <td>PCA_31</td>\n",
       "      <td>-0.055706</td>\n",
       "    </tr>\n",
       "    <tr>\n",
       "      <th>48</th>\n",
       "      <td>PCA_49</td>\n",
       "      <td>-0.064768</td>\n",
       "    </tr>\n",
       "    <tr>\n",
       "      <th>21</th>\n",
       "      <td>PCA_22</td>\n",
       "      <td>-0.067156</td>\n",
       "    </tr>\n",
       "    <tr>\n",
       "      <th>13</th>\n",
       "      <td>PCA_14</td>\n",
       "      <td>-0.068271</td>\n",
       "    </tr>\n",
       "    <tr>\n",
       "      <th>29</th>\n",
       "      <td>PCA_30</td>\n",
       "      <td>-0.079501</td>\n",
       "    </tr>\n",
       "    <tr>\n",
       "      <th>17</th>\n",
       "      <td>PCA_18</td>\n",
       "      <td>-0.082299</td>\n",
       "    </tr>\n",
       "    <tr>\n",
       "      <th>26</th>\n",
       "      <td>PCA_27</td>\n",
       "      <td>-0.095121</td>\n",
       "    </tr>\n",
       "    <tr>\n",
       "      <th>8</th>\n",
       "      <td>PCA_9</td>\n",
       "      <td>-0.095466</td>\n",
       "    </tr>\n",
       "    <tr>\n",
       "      <th>4</th>\n",
       "      <td>PCA_5</td>\n",
       "      <td>-0.125606</td>\n",
       "    </tr>\n",
       "    <tr>\n",
       "      <th>0</th>\n",
       "      <td>PCA_1</td>\n",
       "      <td>-0.134633</td>\n",
       "    </tr>\n",
       "    <tr>\n",
       "      <th>44</th>\n",
       "      <td>PCA_45</td>\n",
       "      <td>-0.137073</td>\n",
       "    </tr>\n",
       "    <tr>\n",
       "      <th>5</th>\n",
       "      <td>PCA_6</td>\n",
       "      <td>-0.151874</td>\n",
       "    </tr>\n",
       "    <tr>\n",
       "      <th>19</th>\n",
       "      <td>PCA_20</td>\n",
       "      <td>-0.154514</td>\n",
       "    </tr>\n",
       "    <tr>\n",
       "      <th>9</th>\n",
       "      <td>PCA_10</td>\n",
       "      <td>-0.170593</td>\n",
       "    </tr>\n",
       "    <tr>\n",
       "      <th>25</th>\n",
       "      <td>PCA_26</td>\n",
       "      <td>-0.195366</td>\n",
       "    </tr>\n",
       "    <tr>\n",
       "      <th>11</th>\n",
       "      <td>PCA_12</td>\n",
       "      <td>-0.327789</td>\n",
       "    </tr>\n",
       "    <tr>\n",
       "      <th>1</th>\n",
       "      <td>PCA_2</td>\n",
       "      <td>-0.478586</td>\n",
       "    </tr>\n",
       "    <tr>\n",
       "      <th>2</th>\n",
       "      <td>PCA_3</td>\n",
       "      <td>-0.602952</td>\n",
       "    </tr>\n",
       "  </tbody>\n",
       "</table>\n",
       "</div>"
      ],
      "text/plain": [
       "       PCs     coeff\n",
       "7    PCA_8  0.171573\n",
       "6    PCA_7  0.109225\n",
       "35  PCA_36  0.091195\n",
       "31  PCA_32  0.083725\n",
       "32  PCA_33  0.074831\n",
       "18  PCA_19  0.069950\n",
       "10  PCA_11  0.067929\n",
       "16  PCA_17  0.067871\n",
       "20  PCA_21  0.056463\n",
       "39  PCA_40  0.052674\n",
       "24  PCA_25  0.047469\n",
       "37  PCA_38  0.045492\n",
       "38  PCA_39  0.038182\n",
       "23  PCA_24  0.032605\n",
       "14  PCA_15  0.029354\n",
       "49  PCA_50  0.025683\n",
       "34  PCA_35  0.021309\n",
       "36  PCA_37 -0.006095\n",
       "27  PCA_28 -0.011137\n",
       "28  PCA_29 -0.012354\n",
       "47  PCA_48 -0.015460\n",
       "45  PCA_46 -0.015639\n",
       "41  PCA_42 -0.027662\n",
       "46  PCA_47 -0.032013\n",
       "33  PCA_34 -0.035720\n",
       "12  PCA_13 -0.036648\n",
       "42  PCA_43 -0.039295\n",
       "3    PCA_4 -0.048150\n",
       "43  PCA_44 -0.048189\n",
       "15  PCA_16 -0.048728\n",
       "40  PCA_41 -0.050774\n",
       "22  PCA_23 -0.052633\n",
       "30  PCA_31 -0.055706\n",
       "48  PCA_49 -0.064768\n",
       "21  PCA_22 -0.067156\n",
       "13  PCA_14 -0.068271\n",
       "29  PCA_30 -0.079501\n",
       "17  PCA_18 -0.082299\n",
       "26  PCA_27 -0.095121\n",
       "8    PCA_9 -0.095466\n",
       "4    PCA_5 -0.125606\n",
       "0    PCA_1 -0.134633\n",
       "44  PCA_45 -0.137073\n",
       "5    PCA_6 -0.151874\n",
       "19  PCA_20 -0.154514\n",
       "9   PCA_10 -0.170593\n",
       "25  PCA_26 -0.195366\n",
       "11  PCA_12 -0.327789\n",
       "1    PCA_2 -0.478586\n",
       "2    PCA_3 -0.602952"
      ]
     },
     "execution_count": 266,
     "metadata": {},
     "output_type": "execute_result"
    }
   ],
   "source": [
    "pca_range = np.arange(pca.n_components_) + 1\n",
    "pca_names = ['PCA_%s' % i for i in pca_range]\n",
    "\n",
    "df_coeffs=pd.DataFrame(list(zip(pca_names, model_lrc.coef_.flatten()))).sort_values(by=[1],ascending=False)\n",
    "df_coeffs.columns = ['PCs', 'coeff']\n",
    "df_coeffs"
   ]
  },
  {
   "cell_type": "code",
   "execution_count": 267,
   "metadata": {},
   "outputs": [
    {
     "data": {
      "image/png": "[encoded data removed]",
      "text/plain": [
       "<Figure size 648x648 with 1 Axes>"
      ]
     },
     "metadata": {},
     "output_type": "display_data"
    }
   ],
   "source": [
    "ax=df_coeffs.plot.barh(figsize=(9,9))\n",
    "t=np.arange(pca.n_components_)\n",
    "ax.set_yticks(t)\n",
    "plt.show()"
   ]
  },
  {
   "cell_type": "code",
   "execution_count": 268,
   "metadata": {},
   "outputs": [
    {
     "data": {
      "text/plain": [
       "RandomForestClassifier(bootstrap=True, class_weight=None, criterion='gini',\n",
       "            max_depth=None, max_features='auto', max_leaf_nodes=None,\n",
       "            min_impurity_decrease=0.0, min_impurity_split=None,\n",
       "            min_samples_leaf=3, min_samples_split=2,\n",
       "            min_weight_fraction_leaf=0.0, n_estimators=20, n_jobs=1,\n",
       "            oob_score=False, random_state=42, verbose=0, warm_start=False)"
      ]
     },
     "execution_count": 268,
     "metadata": {},
     "output_type": "execute_result"
    }
   ],
   "source": [
    "from sklearn.ensemble import RandomForestClassifier\n",
    "model_rfc=RandomForestClassifier(max_depth=None,n_estimators=20,min_samples_leaf=3,random_state=42)\n",
    "model_rfc.fit(X_train_scaled,y_train)"
   ]
  },
  {
   "cell_type": "code",
   "execution_count": 269,
   "metadata": {},
   "outputs": [
    {
     "data": {
      "text/plain": [
       "0.9414726242920075"
      ]
     },
     "execution_count": 269,
     "metadata": {},
     "output_type": "execute_result"
    }
   ],
   "source": [
    "model_rfc.score(X_train_scaled,y_train)"
   ]
  },
  {
   "cell_type": "code",
   "execution_count": 270,
   "metadata": {},
   "outputs": [
    {
     "data": {
      "text/plain": [
       "0.7481132075471698"
      ]
     },
     "execution_count": 270,
     "metadata": {},
     "output_type": "execute_result"
    }
   ],
   "source": [
    "model_rfc.score(X_test_scaled,y_test)"
   ]
  },
  {
   "cell_type": "code",
   "execution_count": 271,
   "metadata": {},
   "outputs": [],
   "source": [
    "from sklearn.ensemble import RandomForestClassifier"
   ]
  },
  {
   "cell_type": "code",
   "execution_count": 272,
   "metadata": {},
   "outputs": [
    {
     "data": {
      "text/plain": [
       "RandomForestClassifier(bootstrap=True, class_weight=None, criterion='gini',\n",
       "            max_depth=None, max_features='auto', max_leaf_nodes=None,\n",
       "            min_impurity_decrease=0.0, min_impurity_split=None,\n",
       "            min_samples_leaf=3, min_samples_split=2,\n",
       "            min_weight_fraction_leaf=0.0, n_estimators=20, n_jobs=1,\n",
       "            oob_score=False, random_state=42, verbose=0, warm_start=False)"
      ]
     },
     "execution_count": 272,
     "metadata": {},
     "output_type": "execute_result"
    }
   ],
   "source": [
    "model_rfc=RandomForestClassifier(max_depth=None,n_estimators=20,min_samples_leaf=3,random_state=42)\n",
    "model_rfc.fit(X_train_pca,y_train)"
   ]
  },
  {
   "cell_type": "code",
   "execution_count": 273,
   "metadata": {},
   "outputs": [
    {
     "data": {
      "text/plain": [
       "0.9817495280050346"
      ]
     },
     "execution_count": 273,
     "metadata": {},
     "output_type": "execute_result"
    }
   ],
   "source": [
    "model_rfc.score(X_train_pca,y_train)"
   ]
  },
  {
   "cell_type": "code",
   "execution_count": 274,
   "metadata": {},
   "outputs": [
    {
     "data": {
      "text/plain": [
       "0.7377358490566037"
      ]
     },
     "execution_count": 274,
     "metadata": {},
     "output_type": "execute_result"
    }
   ],
   "source": [
    "model_rfc.score(X_test_pca,y_test)"
   ]
  },
  {
   "cell_type": "code",
   "execution_count": 275,
   "metadata": {},
   "outputs": [],
   "source": [
    "#can see overfitting"
   ]
  },
  {
   "cell_type": "code",
   "execution_count": 276,
   "metadata": {},
   "outputs": [
    {
     "data": {
      "text/html": [
       "<div>\n",
       "<style scoped>\n",
       "    .dataframe tbody tr th:only-of-type {\n",
       "        vertical-align: middle;\n",
       "    }\n",
       "\n",
       "    .dataframe tbody tr th {\n",
       "        vertical-align: top;\n",
       "    }\n",
       "\n",
       "    .dataframe thead th {\n",
       "        text-align: right;\n",
       "    }\n",
       "</style>\n",
       "<table border=\"1\" class=\"dataframe\">\n",
       "  <thead>\n",
       "    <tr style=\"text-align: right;\">\n",
       "      <th></th>\n",
       "      <th>PCs</th>\n",
       "      <th>feature importance</th>\n",
       "    </tr>\n",
       "  </thead>\n",
       "  <tbody>\n",
       "    <tr>\n",
       "      <th>7</th>\n",
       "      <td>PCA_8</td>\n",
       "      <td>0.171573</td>\n",
       "    </tr>\n",
       "    <tr>\n",
       "      <th>6</th>\n",
       "      <td>PCA_7</td>\n",
       "      <td>0.109225</td>\n",
       "    </tr>\n",
       "    <tr>\n",
       "      <th>35</th>\n",
       "      <td>PCA_36</td>\n",
       "      <td>0.091195</td>\n",
       "    </tr>\n",
       "    <tr>\n",
       "      <th>31</th>\n",
       "      <td>PCA_32</td>\n",
       "      <td>0.083725</td>\n",
       "    </tr>\n",
       "    <tr>\n",
       "      <th>32</th>\n",
       "      <td>PCA_33</td>\n",
       "      <td>0.074831</td>\n",
       "    </tr>\n",
       "    <tr>\n",
       "      <th>18</th>\n",
       "      <td>PCA_19</td>\n",
       "      <td>0.069950</td>\n",
       "    </tr>\n",
       "    <tr>\n",
       "      <th>10</th>\n",
       "      <td>PCA_11</td>\n",
       "      <td>0.067929</td>\n",
       "    </tr>\n",
       "    <tr>\n",
       "      <th>16</th>\n",
       "      <td>PCA_17</td>\n",
       "      <td>0.067871</td>\n",
       "    </tr>\n",
       "    <tr>\n",
       "      <th>20</th>\n",
       "      <td>PCA_21</td>\n",
       "      <td>0.056463</td>\n",
       "    </tr>\n",
       "    <tr>\n",
       "      <th>39</th>\n",
       "      <td>PCA_40</td>\n",
       "      <td>0.052674</td>\n",
       "    </tr>\n",
       "    <tr>\n",
       "      <th>24</th>\n",
       "      <td>PCA_25</td>\n",
       "      <td>0.047469</td>\n",
       "    </tr>\n",
       "    <tr>\n",
       "      <th>37</th>\n",
       "      <td>PCA_38</td>\n",
       "      <td>0.045492</td>\n",
       "    </tr>\n",
       "    <tr>\n",
       "      <th>38</th>\n",
       "      <td>PCA_39</td>\n",
       "      <td>0.038182</td>\n",
       "    </tr>\n",
       "    <tr>\n",
       "      <th>23</th>\n",
       "      <td>PCA_24</td>\n",
       "      <td>0.032605</td>\n",
       "    </tr>\n",
       "    <tr>\n",
       "      <th>14</th>\n",
       "      <td>PCA_15</td>\n",
       "      <td>0.029354</td>\n",
       "    </tr>\n",
       "    <tr>\n",
       "      <th>49</th>\n",
       "      <td>PCA_50</td>\n",
       "      <td>0.025683</td>\n",
       "    </tr>\n",
       "    <tr>\n",
       "      <th>34</th>\n",
       "      <td>PCA_35</td>\n",
       "      <td>0.021309</td>\n",
       "    </tr>\n",
       "    <tr>\n",
       "      <th>36</th>\n",
       "      <td>PCA_37</td>\n",
       "      <td>-0.006095</td>\n",
       "    </tr>\n",
       "    <tr>\n",
       "      <th>27</th>\n",
       "      <td>PCA_28</td>\n",
       "      <td>-0.011137</td>\n",
       "    </tr>\n",
       "    <tr>\n",
       "      <th>28</th>\n",
       "      <td>PCA_29</td>\n",
       "      <td>-0.012354</td>\n",
       "    </tr>\n",
       "    <tr>\n",
       "      <th>47</th>\n",
       "      <td>PCA_48</td>\n",
       "      <td>-0.015460</td>\n",
       "    </tr>\n",
       "    <tr>\n",
       "      <th>45</th>\n",
       "      <td>PCA_46</td>\n",
       "      <td>-0.015639</td>\n",
       "    </tr>\n",
       "    <tr>\n",
       "      <th>41</th>\n",
       "      <td>PCA_42</td>\n",
       "      <td>-0.027662</td>\n",
       "    </tr>\n",
       "    <tr>\n",
       "      <th>46</th>\n",
       "      <td>PCA_47</td>\n",
       "      <td>-0.032013</td>\n",
       "    </tr>\n",
       "    <tr>\n",
       "      <th>33</th>\n",
       "      <td>PCA_34</td>\n",
       "      <td>-0.035720</td>\n",
       "    </tr>\n",
       "    <tr>\n",
       "      <th>12</th>\n",
       "      <td>PCA_13</td>\n",
       "      <td>-0.036648</td>\n",
       "    </tr>\n",
       "    <tr>\n",
       "      <th>42</th>\n",
       "      <td>PCA_43</td>\n",
       "      <td>-0.039295</td>\n",
       "    </tr>\n",
       "    <tr>\n",
       "      <th>3</th>\n",
       "      <td>PCA_4</td>\n",
       "      <td>-0.048150</td>\n",
       "    </tr>\n",
       "    <tr>\n",
       "      <th>43</th>\n",
       "      <td>PCA_44</td>\n",
       "      <td>-0.048189</td>\n",
       "    </tr>\n",
       "    <tr>\n",
       "      <th>15</th>\n",
       "      <td>PCA_16</td>\n",
       "      <td>-0.048728</td>\n",
       "    </tr>\n",
       "    <tr>\n",
       "      <th>40</th>\n",
       "      <td>PCA_41</td>\n",
       "      <td>-0.050774</td>\n",
       "    </tr>\n",
       "    <tr>\n",
       "      <th>22</th>\n",
       "      <td>PCA_23</td>\n",
       "      <td>-0.052633</td>\n",
       "    </tr>\n",
       "    <tr>\n",
       "      <th>30</th>\n",
       "      <td>PCA_31</td>\n",
       "      <td>-0.055706</td>\n",
       "    </tr>\n",
       "    <tr>\n",
       "      <th>48</th>\n",
       "      <td>PCA_49</td>\n",
       "      <td>-0.064768</td>\n",
       "    </tr>\n",
       "    <tr>\n",
       "      <th>21</th>\n",
       "      <td>PCA_22</td>\n",
       "      <td>-0.067156</td>\n",
       "    </tr>\n",
       "    <tr>\n",
       "      <th>13</th>\n",
       "      <td>PCA_14</td>\n",
       "      <td>-0.068271</td>\n",
       "    </tr>\n",
       "    <tr>\n",
       "      <th>29</th>\n",
       "      <td>PCA_30</td>\n",
       "      <td>-0.079501</td>\n",
       "    </tr>\n",
       "    <tr>\n",
       "      <th>17</th>\n",
       "      <td>PCA_18</td>\n",
       "      <td>-0.082299</td>\n",
       "    </tr>\n",
       "    <tr>\n",
       "      <th>26</th>\n",
       "      <td>PCA_27</td>\n",
       "      <td>-0.095121</td>\n",
       "    </tr>\n",
       "    <tr>\n",
       "      <th>8</th>\n",
       "      <td>PCA_9</td>\n",
       "      <td>-0.095466</td>\n",
       "    </tr>\n",
       "    <tr>\n",
       "      <th>4</th>\n",
       "      <td>PCA_5</td>\n",
       "      <td>-0.125606</td>\n",
       "    </tr>\n",
       "    <tr>\n",
       "      <th>0</th>\n",
       "      <td>PCA_1</td>\n",
       "      <td>-0.134633</td>\n",
       "    </tr>\n",
       "    <tr>\n",
       "      <th>44</th>\n",
       "      <td>PCA_45</td>\n",
       "      <td>-0.137073</td>\n",
       "    </tr>\n",
       "    <tr>\n",
       "      <th>5</th>\n",
       "      <td>PCA_6</td>\n",
       "      <td>-0.151874</td>\n",
       "    </tr>\n",
       "    <tr>\n",
       "      <th>19</th>\n",
       "      <td>PCA_20</td>\n",
       "      <td>-0.154514</td>\n",
       "    </tr>\n",
       "    <tr>\n",
       "      <th>9</th>\n",
       "      <td>PCA_10</td>\n",
       "      <td>-0.170593</td>\n",
       "    </tr>\n",
       "    <tr>\n",
       "      <th>25</th>\n",
       "      <td>PCA_26</td>\n",
       "      <td>-0.195366</td>\n",
       "    </tr>\n",
       "    <tr>\n",
       "      <th>11</th>\n",
       "      <td>PCA_12</td>\n",
       "      <td>-0.327789</td>\n",
       "    </tr>\n",
       "    <tr>\n",
       "      <th>1</th>\n",
       "      <td>PCA_2</td>\n",
       "      <td>-0.478586</td>\n",
       "    </tr>\n",
       "    <tr>\n",
       "      <th>2</th>\n",
       "      <td>PCA_3</td>\n",
       "      <td>-0.602952</td>\n",
       "    </tr>\n",
       "  </tbody>\n",
       "</table>\n",
       "</div>"
      ],
      "text/plain": [
       "       PCs  feature importance\n",
       "7    PCA_8            0.171573\n",
       "6    PCA_7            0.109225\n",
       "35  PCA_36            0.091195\n",
       "31  PCA_32            0.083725\n",
       "32  PCA_33            0.074831\n",
       "18  PCA_19            0.069950\n",
       "10  PCA_11            0.067929\n",
       "16  PCA_17            0.067871\n",
       "20  PCA_21            0.056463\n",
       "39  PCA_40            0.052674\n",
       "24  PCA_25            0.047469\n",
       "37  PCA_38            0.045492\n",
       "38  PCA_39            0.038182\n",
       "23  PCA_24            0.032605\n",
       "14  PCA_15            0.029354\n",
       "49  PCA_50            0.025683\n",
       "34  PCA_35            0.021309\n",
       "36  PCA_37           -0.006095\n",
       "27  PCA_28           -0.011137\n",
       "28  PCA_29           -0.012354\n",
       "47  PCA_48           -0.015460\n",
       "45  PCA_46           -0.015639\n",
       "41  PCA_42           -0.027662\n",
       "46  PCA_47           -0.032013\n",
       "33  PCA_34           -0.035720\n",
       "12  PCA_13           -0.036648\n",
       "42  PCA_43           -0.039295\n",
       "3    PCA_4           -0.048150\n",
       "43  PCA_44           -0.048189\n",
       "15  PCA_16           -0.048728\n",
       "40  PCA_41           -0.050774\n",
       "22  PCA_23           -0.052633\n",
       "30  PCA_31           -0.055706\n",
       "48  PCA_49           -0.064768\n",
       "21  PCA_22           -0.067156\n",
       "13  PCA_14           -0.068271\n",
       "29  PCA_30           -0.079501\n",
       "17  PCA_18           -0.082299\n",
       "26  PCA_27           -0.095121\n",
       "8    PCA_9           -0.095466\n",
       "4    PCA_5           -0.125606\n",
       "0    PCA_1           -0.134633\n",
       "44  PCA_45           -0.137073\n",
       "5    PCA_6           -0.151874\n",
       "19  PCA_20           -0.154514\n",
       "9   PCA_10           -0.170593\n",
       "25  PCA_26           -0.195366\n",
       "11  PCA_12           -0.327789\n",
       "1    PCA_2           -0.478586\n",
       "2    PCA_3           -0.602952"
      ]
     },
     "execution_count": 276,
     "metadata": {},
     "output_type": "execute_result"
    }
   ],
   "source": [
    "pca_range = np.arange(pca.n_components_) + 1\n",
    "pca_names = ['PCA_%s' % i for i in pca_range]\n",
    "\n",
    "df_coeffs=pd.DataFrame(list(zip(pca_names, model_lrc.coef_.flatten()))).sort_values(by=[1],ascending=False)\n",
    "df_coeffs.columns = ['PCs', 'feature importance']\n",
    "df_coeffs"
   ]
  },
  {
   "cell_type": "code",
   "execution_count": null,
   "metadata": {},
   "outputs": [],
   "source": []
  }
 ],
 "metadata": {
  "kernelspec": {
   "display_name": "Python 3",
   "language": "python",
   "name": "python3"
  },
  "language_info": {
   "codemirror_mode": {
    "name": "ipython",
    "version": 3
   },
   "file_extension": ".py",
   "mimetype": "text/x-python",
   "name": "python",
   "nbconvert_exporter": "python",
   "pygments_lexer": "ipython3",
   "version": "3.6.5"
  }
 },
 "nbformat": 4,
 "nbformat_minor": 2
}
